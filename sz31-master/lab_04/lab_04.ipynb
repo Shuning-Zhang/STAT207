{
 "cells": [
  {
   "cell_type": "markdown",
   "metadata": {},
   "source": [
    "## STAT 207 Lab 4: Sampling Distributions, Probability, and Data Cleaning - [25 total points] - Solutions"
   ]
  },
  {
   "cell_type": "markdown",
   "metadata": {},
   "source": [
    "Due: Wednesday, February 24, 11:59pm CST\n",
    "\n",
    "## <u>Case Study</u>: Household Income and Education Level in U.S. Counties\n",
    "In this lab we will explore the statistical concepts that we've learned this week while also examining the **median household income (median_hh_income)**, the **median education level (median_edu)**, and the relationship between these variables in a **population** of 3142 U.S. counties."
   ]
  },
  {
   "cell_type": "markdown",
   "metadata": {},
   "source": [
    "## 1. <u>Preliminaries</u>\n",
    "### Imports"
   ]
  },
  {
   "cell_type": "code",
   "execution_count": 6,
   "metadata": {},
   "outputs": [],
   "source": [
    "import pandas as pd                    # imports pandas and calls the imported version 'pd'\n",
    "import matplotlib.pyplot as plt        # imports the package and calls it 'plt'\n",
    "import seaborn as sns                  # imports the seaborn package with the imported name 'sns'\n",
    "sns.set()                              # sets the default plotting style"
   ]
  },
  {
   "cell_type": "markdown",
   "metadata": {},
   "source": [
    "### 1a. [0.5 pt] Read the county.csv into a dataframe, call it df, and display the first five rows."
   ]
  },
  {
   "cell_type": "code",
   "execution_count": 7,
   "metadata": {},
   "outputs": [
    {
     "data": {
      "text/html": [
       "<div>\n",
       "<style scoped>\n",
       "    .dataframe tbody tr th:only-of-type {\n",
       "        vertical-align: middle;\n",
       "    }\n",
       "\n",
       "    .dataframe tbody tr th {\n",
       "        vertical-align: top;\n",
       "    }\n",
       "\n",
       "    .dataframe thead th {\n",
       "        text-align: right;\n",
       "    }\n",
       "</style>\n",
       "<table border=\"1\" class=\"dataframe\">\n",
       "  <thead>\n",
       "    <tr style=\"text-align: right;\">\n",
       "      <th></th>\n",
       "      <th>name</th>\n",
       "      <th>state</th>\n",
       "      <th>pop2000</th>\n",
       "      <th>pop2010</th>\n",
       "      <th>pop2017</th>\n",
       "      <th>pop_change</th>\n",
       "      <th>poverty</th>\n",
       "      <th>homeownership</th>\n",
       "      <th>multi_unit</th>\n",
       "      <th>unemployment_rate</th>\n",
       "      <th>metro</th>\n",
       "      <th>median_edu</th>\n",
       "      <th>per_capita_income</th>\n",
       "      <th>median_hh_income</th>\n",
       "      <th>smoking_ban</th>\n",
       "    </tr>\n",
       "  </thead>\n",
       "  <tbody>\n",
       "    <tr>\n",
       "      <td>0</td>\n",
       "      <td>Autauga County</td>\n",
       "      <td>Alabama</td>\n",
       "      <td>43671</td>\n",
       "      <td>54571</td>\n",
       "      <td>55504</td>\n",
       "      <td>1.48</td>\n",
       "      <td>13.7</td>\n",
       "      <td>77.5</td>\n",
       "      <td>7.2</td>\n",
       "      <td>3.86</td>\n",
       "      <td>yes</td>\n",
       "      <td>some_college</td>\n",
       "      <td>27841.7</td>\n",
       "      <td>55317</td>\n",
       "      <td>none</td>\n",
       "    </tr>\n",
       "    <tr>\n",
       "      <td>1</td>\n",
       "      <td>Baldwin County</td>\n",
       "      <td>Alabama</td>\n",
       "      <td>140415</td>\n",
       "      <td>182265</td>\n",
       "      <td>212628</td>\n",
       "      <td>9.19</td>\n",
       "      <td>11.8</td>\n",
       "      <td>76.7</td>\n",
       "      <td>22.6</td>\n",
       "      <td>3.99</td>\n",
       "      <td>yes</td>\n",
       "      <td>some_college</td>\n",
       "      <td>27779.85</td>\n",
       "      <td>52562</td>\n",
       "      <td>none</td>\n",
       "    </tr>\n",
       "    <tr>\n",
       "      <td>2</td>\n",
       "      <td>Barbour County</td>\n",
       "      <td>Alabama</td>\n",
       "      <td>29038</td>\n",
       "      <td>27457</td>\n",
       "      <td>25270</td>\n",
       "      <td>-6.22</td>\n",
       "      <td>27.2</td>\n",
       "      <td>68.0</td>\n",
       "      <td>11.1</td>\n",
       "      <td>5.9</td>\n",
       "      <td>no</td>\n",
       "      <td>hs_diploma</td>\n",
       "      <td>17891.73</td>\n",
       "      <td>33368</td>\n",
       "      <td>partial</td>\n",
       "    </tr>\n",
       "    <tr>\n",
       "      <td>3</td>\n",
       "      <td>Bibb County</td>\n",
       "      <td>Alabama</td>\n",
       "      <td>20826</td>\n",
       "      <td>22915</td>\n",
       "      <td>22668</td>\n",
       "      <td>0.73</td>\n",
       "      <td>15.2</td>\n",
       "      <td>82.9</td>\n",
       "      <td>6.6</td>\n",
       "      <td>4.39</td>\n",
       "      <td>yes</td>\n",
       "      <td>hs_diploma</td>\n",
       "      <td>20572.05</td>\n",
       "      <td>43404</td>\n",
       "      <td>none</td>\n",
       "    </tr>\n",
       "    <tr>\n",
       "      <td>4</td>\n",
       "      <td>Blount County</td>\n",
       "      <td>Alabama</td>\n",
       "      <td>51024</td>\n",
       "      <td>57322</td>\n",
       "      <td>58013</td>\n",
       "      <td>0.68</td>\n",
       "      <td>15.6</td>\n",
       "      <td>82.0</td>\n",
       "      <td>3.7</td>\n",
       "      <td>4.02</td>\n",
       "      <td>yes</td>\n",
       "      <td>hs_diploma</td>\n",
       "      <td>21367.39</td>\n",
       "      <td>47412</td>\n",
       "      <td>none</td>\n",
       "    </tr>\n",
       "  </tbody>\n",
       "</table>\n",
       "</div>"
      ],
      "text/plain": [
       "             name    state pop2000  pop2010 pop2017 pop_change poverty  \\\n",
       "0  Autauga County  Alabama   43671    54571   55504       1.48    13.7   \n",
       "1  Baldwin County  Alabama  140415   182265  212628       9.19    11.8   \n",
       "2  Barbour County  Alabama   29038    27457   25270      -6.22    27.2   \n",
       "3     Bibb County  Alabama   20826    22915   22668       0.73    15.2   \n",
       "4   Blount County  Alabama   51024    57322   58013       0.68    15.6   \n",
       "\n",
       "   homeownership  multi_unit unemployment_rate metro    median_edu  \\\n",
       "0           77.5         7.2              3.86   yes  some_college   \n",
       "1           76.7        22.6              3.99   yes  some_college   \n",
       "2           68.0        11.1               5.9    no    hs_diploma   \n",
       "3           82.9         6.6              4.39   yes    hs_diploma   \n",
       "4           82.0         3.7              4.02   yes    hs_diploma   \n",
       "\n",
       "  per_capita_income median_hh_income smoking_ban  \n",
       "0           27841.7            55317        none  \n",
       "1          27779.85            52562        none  \n",
       "2          17891.73            33368     partial  \n",
       "3          20572.05            43404        none  \n",
       "4          21367.39            47412        none  "
      ]
     },
     "execution_count": 7,
     "metadata": {},
     "output_type": "execute_result"
    }
   ],
   "source": [
    "df = pd.read_csv('county.csv')         #read the file\n",
    "df.head()"
   ]
  },
  {
   "cell_type": "markdown",
   "metadata": {},
   "source": [
    "### 1b. [0.5pt] Display the shape of the dataframe."
   ]
  },
  {
   "cell_type": "code",
   "execution_count": 8,
   "metadata": {},
   "outputs": [
    {
     "name": "stdout",
     "output_type": "stream",
     "text": [
      "Shape of the dataframe\n",
      "(3142, 15)\n",
      "Number of rows in the dataframe\n",
      "3142\n",
      "Number of columns in the dataframe\n",
      "15\n"
     ]
    }
   ],
   "source": [
    "print('Shape of the dataframe')\n",
    "print(df.shape)\n",
    "\n",
    "print('Number of rows in the dataframe')\n",
    "print(df.shape[0])\n",
    "\n",
    "print('Number of columns in the dataframe')\n",
    "print(df.shape[1])"
   ]
  },
  {
   "cell_type": "markdown",
   "metadata": {},
   "source": [
    "### 1c. [4 pt] Data cleaning and data type checking\n",
    "We plan to analyze the \"median_hh_income\" variable as well as the \"median_edu\" variable in this assignment. In order to ensure that our subsequent functions work appropriately on these variables, you should do the following.\n",
    "1. Make sure you have identified any values that have been encoded in the csv to represent a missing value. \n",
    "2. Make sure that the values in your \"median_hh_income\" variable are interpreted as numerical values. If not, fix this using the methods we discussed in class.\n",
    "3. Delete any rows in your dataframe that have missing values. Remember, some \"missing values\", in the way that they're currently encoded are not always detectable by Python.\n",
    "\n",
    "#### Warning: If you don't do this step appropriately, you may have issues when you run other functions.\n",
    "\n",
    "#### Hint: There are some missing values in this csv. You may need to get creative (beyond what we taught you in class, but still using functions you know) to figure out what they are.\n"
   ]
  },
  {
   "cell_type": "code",
   "execution_count": 31,
   "metadata": {
    "scrolled": true
   },
   "outputs": [
    {
     "data": {
      "text/html": [
       "<div>\n",
       "<style scoped>\n",
       "    .dataframe tbody tr th:only-of-type {\n",
       "        vertical-align: middle;\n",
       "    }\n",
       "\n",
       "    .dataframe tbody tr th {\n",
       "        vertical-align: top;\n",
       "    }\n",
       "\n",
       "    .dataframe thead th {\n",
       "        text-align: right;\n",
       "    }\n",
       "</style>\n",
       "<table border=\"1\" class=\"dataframe\">\n",
       "  <thead>\n",
       "    <tr style=\"text-align: right;\">\n",
       "      <th></th>\n",
       "      <th>name</th>\n",
       "      <th>state</th>\n",
       "      <th>pop2000</th>\n",
       "      <th>pop2010</th>\n",
       "      <th>pop2017</th>\n",
       "      <th>pop_change</th>\n",
       "      <th>poverty</th>\n",
       "      <th>homeownership</th>\n",
       "      <th>multi_unit</th>\n",
       "      <th>unemployment_rate</th>\n",
       "      <th>metro</th>\n",
       "      <th>median_edu</th>\n",
       "      <th>per_capita_income</th>\n",
       "      <th>median_hh_income</th>\n",
       "      <th>smoking_ban</th>\n",
       "    </tr>\n",
       "  </thead>\n",
       "  <tbody>\n",
       "    <tr>\n",
       "      <td>92</td>\n",
       "      <td>Kusilvak Census Area</td>\n",
       "      <td>Alaska</td>\n",
       "      <td>7028</td>\n",
       "      <td>7459</td>\n",
       "      <td>8202</td>\n",
       "      <td>2.91</td>\n",
       "      <td>data unavailable</td>\n",
       "      <td>64.8</td>\n",
       "      <td>4.1</td>\n",
       "      <td>data unavailable</td>\n",
       "      <td>data unavailable</td>\n",
       "      <td>data unavailable</td>\n",
       "      <td>data unavailable</td>\n",
       "      <td>data unavailable</td>\n",
       "      <td>none</td>\n",
       "    </tr>\n",
       "    <tr>\n",
       "      <td>2417</td>\n",
       "      <td>Oglala Lakota County</td>\n",
       "      <td>South Dakota</td>\n",
       "      <td>12466</td>\n",
       "      <td>13586</td>\n",
       "      <td>14354</td>\n",
       "      <td>1.59</td>\n",
       "      <td>data unavailable</td>\n",
       "      <td>51.3</td>\n",
       "      <td>3.8</td>\n",
       "      <td>data unavailable</td>\n",
       "      <td>data unavailable</td>\n",
       "      <td>data unavailable</td>\n",
       "      <td>data unavailable</td>\n",
       "      <td>data unavailable</td>\n",
       "      <td>none</td>\n",
       "    </tr>\n",
       "  </tbody>\n",
       "</table>\n",
       "</div>"
      ],
      "text/plain": [
       "                      name         state pop2000  pop2010 pop2017 pop_change  \\\n",
       "92    Kusilvak Census Area        Alaska    7028     7459    8202       2.91   \n",
       "2417  Oglala Lakota County  South Dakota   12466    13586   14354       1.59   \n",
       "\n",
       "               poverty  homeownership  multi_unit unemployment_rate  \\\n",
       "92    data unavailable           64.8         4.1  data unavailable   \n",
       "2417  data unavailable           51.3         3.8  data unavailable   \n",
       "\n",
       "                 metro        median_edu per_capita_income  median_hh_income  \\\n",
       "92    data unavailable  data unavailable  data unavailable  data unavailable   \n",
       "2417  data unavailable  data unavailable  data unavailable  data unavailable   \n",
       "\n",
       "     smoking_ban  \n",
       "92          none  \n",
       "2417        none  "
      ]
     },
     "execution_count": 31,
     "metadata": {},
     "output_type": "execute_result"
    }
   ],
   "source": [
    "df[df['median_edu']== 'data unavailable']\n",
    "df[df['median_hh_income']== 'data unavailable'] # know the index number"
   ]
  },
  {
   "cell_type": "code",
   "execution_count": 32,
   "metadata": {},
   "outputs": [
    {
     "data": {
      "text/plain": [
       "name                   0\n",
       "state                  0\n",
       "pop2000                3\n",
       "pop2010                0\n",
       "pop2017                3\n",
       "pop_change             3\n",
       "poverty                2\n",
       "homeownership          0\n",
       "multi_unit             0\n",
       "unemployment_rate      3\n",
       "metro                  3\n",
       "median_edu             2\n",
       "per_capita_income      3\n",
       "median_hh_income       2\n",
       "smoking_ban          580\n",
       "dtype: int64"
      ]
     },
     "execution_count": 32,
     "metadata": {},
     "output_type": "execute_result"
    }
   ],
   "source": [
    "nan_value = ['data unavailable']\n",
    "after_drop = pd.read_csv('county.csv', na_values = nan_value)\n",
    "after_drop.isna().sum()       #setting all the data unavilable to NaN value, and count how many are there"
   ]
  },
  {
   "cell_type": "code",
   "execution_count": 33,
   "metadata": {},
   "outputs": [],
   "source": [
    "after_drop = after_drop.dropna()"
   ]
  },
  {
   "cell_type": "code",
   "execution_count": 34,
   "metadata": {},
   "outputs": [
    {
     "data": {
      "text/plain": [
       "name                 0\n",
       "state                0\n",
       "pop2000              0\n",
       "pop2010              0\n",
       "pop2017              0\n",
       "pop_change           0\n",
       "poverty              0\n",
       "homeownership        0\n",
       "multi_unit           0\n",
       "unemployment_rate    0\n",
       "metro                0\n",
       "median_edu           0\n",
       "per_capita_income    0\n",
       "median_hh_income     0\n",
       "smoking_ban          0\n",
       "dtype: int64"
      ]
     },
     "execution_count": 34,
     "metadata": {},
     "output_type": "execute_result"
    }
   ],
   "source": [
    "after_drop.isna().sum()      #check if there are any that wasn't dropped"
   ]
  },
  {
   "cell_type": "code",
   "execution_count": 35,
   "metadata": {},
   "outputs": [],
   "source": [
    "##after_drop['median_hh_income'] = pd.to_numeric(after_drop['median_hh_income']) #change it to numerical value"
   ]
  },
  {
   "cell_type": "code",
   "execution_count": 36,
   "metadata": {},
   "outputs": [
    {
     "data": {
      "text/plain": [
       "dtype('float64')"
      ]
     },
     "execution_count": 36,
     "metadata": {},
     "output_type": "execute_result"
    }
   ],
   "source": [
    "after_drop[\"median_hh_income\"].dtype"
   ]
  },
  {
   "cell_type": "code",
   "execution_count": 39,
   "metadata": {},
   "outputs": [
    {
     "data": {
      "text/plain": [
       "(2559, 15)"
      ]
     },
     "execution_count": 39,
     "metadata": {},
     "output_type": "execute_result"
    }
   ],
   "source": [
    "after_drop.shape"
   ]
  },
  {
   "cell_type": "markdown",
   "metadata": {},
   "source": [
    "### 1d. [0.5 pt] How many rows with missing values did our original dataframe have?"
   ]
  },
  {
   "cell_type": "code",
   "execution_count": 40,
   "metadata": {},
   "outputs": [
    {
     "name": "stdout",
     "output_type": "stream",
     "text": [
      "583 rows\n"
     ]
    }
   ],
   "source": [
    "print((3142-2559),\"rows\")"
   ]
  },
  {
   "cell_type": "markdown",
   "metadata": {},
   "source": [
    "## 2. <u>Population Analysis</u>\n",
    "\n",
    "We will consider our dataframe (with any missing values dropped) as the population of US counties.\n",
    "\n",
    "### 2.a. [0.5 pt] Calculate the population mean of the median household income."
   ]
  },
  {
   "cell_type": "code",
   "execution_count": 41,
   "metadata": {},
   "outputs": [
    {
     "data": {
      "text/plain": [
       "49050.69284876905"
      ]
     },
     "execution_count": 41,
     "metadata": {},
     "output_type": "execute_result"
    }
   ],
   "source": [
    "mean = after_drop['median_hh_income'].mean()\n",
    "mean"
   ]
  },
  {
   "cell_type": "markdown",
   "metadata": {},
   "source": [
    "### 2.b. [0.5 pt] Calculate the population standard deviation of the median household income."
   ]
  },
  {
   "cell_type": "code",
   "execution_count": 42,
   "metadata": {},
   "outputs": [
    {
     "data": {
      "text/plain": [
       "12943.83427788543"
      ]
     },
     "execution_count": 42,
     "metadata": {},
     "output_type": "execute_result"
    }
   ],
   "source": [
    "sd = after_drop['median_hh_income'].std()\n",
    "sd"
   ]
  },
  {
   "cell_type": "markdown",
   "metadata": {},
   "source": [
    "### 2.c. [1 pt] Plot the population distribution and describe the shape of the distribution (skew and modality).\n",
    "\n",
    "Make sure you accurately label the x-axis!"
   ]
  },
  {
   "cell_type": "code",
   "execution_count": 43,
   "metadata": {},
   "outputs": [
    {
     "data": {
      "image/png": "[encoded data removed]",
      "text/plain": [
       "<Figure size 432x288 with 1 Axes>"
      ]
     },
     "metadata": {},
     "output_type": "display_data"
    }
   ],
   "source": [
    "after_drop['median_hh_income'].hist(density= True)\n",
    "plt.title('population distribution graph for median household income')\n",
    "plt.xlabel('median household income for each county')\n",
    "plt.show()"
   ]
  },
  {
   "cell_type": "markdown",
   "metadata": {},
   "source": [
    "This graph is right skewed which would be explained both by it's visual and for it's mean is bigger than median. This is also a unimodal for it only has one peak"
   ]
  },
  {
   "cell_type": "markdown",
   "metadata": {},
   "source": [
    "## 3. <u> Sample Analysis</u>\n",
    "\n",
    "### 3.a. [0.5 pt] Collect a random sample from this population with replacement of size 200 using a random_state of 100. Display the first 5 rows."
   ]
  },
  {
   "cell_type": "code",
   "execution_count": 44,
   "metadata": {},
   "outputs": [
    {
     "data": {
      "text/html": [
       "<div>\n",
       "<style scoped>\n",
       "    .dataframe tbody tr th:only-of-type {\n",
       "        vertical-align: middle;\n",
       "    }\n",
       "\n",
       "    .dataframe tbody tr th {\n",
       "        vertical-align: top;\n",
       "    }\n",
       "\n",
       "    .dataframe thead th {\n",
       "        text-align: right;\n",
       "    }\n",
       "</style>\n",
       "<table border=\"1\" class=\"dataframe\">\n",
       "  <thead>\n",
       "    <tr style=\"text-align: right;\">\n",
       "      <th></th>\n",
       "      <th>name</th>\n",
       "      <th>state</th>\n",
       "      <th>pop2000</th>\n",
       "      <th>pop2010</th>\n",
       "      <th>pop2017</th>\n",
       "      <th>pop_change</th>\n",
       "      <th>poverty</th>\n",
       "      <th>homeownership</th>\n",
       "      <th>multi_unit</th>\n",
       "      <th>unemployment_rate</th>\n",
       "      <th>metro</th>\n",
       "      <th>median_edu</th>\n",
       "      <th>per_capita_income</th>\n",
       "      <th>median_hh_income</th>\n",
       "      <th>smoking_ban</th>\n",
       "    </tr>\n",
       "  </thead>\n",
       "  <tbody>\n",
       "    <tr>\n",
       "      <td>1945</td>\n",
       "      <td>McDowell County</td>\n",
       "      <td>North Carolina</td>\n",
       "      <td>42151.0</td>\n",
       "      <td>44996</td>\n",
       "      <td>45159.0</td>\n",
       "      <td>0.20</td>\n",
       "      <td>19.3</td>\n",
       "      <td>72.6</td>\n",
       "      <td>7.0</td>\n",
       "      <td>4.15</td>\n",
       "      <td>no</td>\n",
       "      <td>hs_diploma</td>\n",
       "      <td>20661.07</td>\n",
       "      <td>38776.0</td>\n",
       "      <td>partial</td>\n",
       "    </tr>\n",
       "    <tr>\n",
       "      <td>2339</td>\n",
       "      <td>Greenwood County</td>\n",
       "      <td>South Carolina</td>\n",
       "      <td>66271.0</td>\n",
       "      <td>69661</td>\n",
       "      <td>70355.0</td>\n",
       "      <td>0.75</td>\n",
       "      <td>24.2</td>\n",
       "      <td>69.8</td>\n",
       "      <td>16.7</td>\n",
       "      <td>4.53</td>\n",
       "      <td>no</td>\n",
       "      <td>some_college</td>\n",
       "      <td>22452.40</td>\n",
       "      <td>39196.0</td>\n",
       "      <td>none</td>\n",
       "    </tr>\n",
       "    <tr>\n",
       "      <td>91</td>\n",
       "      <td>Valdez-Cordova Census Area</td>\n",
       "      <td>Alaska</td>\n",
       "      <td>10195.0</td>\n",
       "      <td>9636</td>\n",
       "      <td>9278.0</td>\n",
       "      <td>-5.06</td>\n",
       "      <td>7.4</td>\n",
       "      <td>71.8</td>\n",
       "      <td>17.6</td>\n",
       "      <td>7.96</td>\n",
       "      <td>no</td>\n",
       "      <td>some_college</td>\n",
       "      <td>30746.27</td>\n",
       "      <td>86019.0</td>\n",
       "      <td>none</td>\n",
       "    </tr>\n",
       "    <tr>\n",
       "      <td>2413</td>\n",
       "      <td>Perkins County</td>\n",
       "      <td>South Dakota</td>\n",
       "      <td>3363.0</td>\n",
       "      <td>2982</td>\n",
       "      <td>2974.0</td>\n",
       "      <td>-1.43</td>\n",
       "      <td>12.0</td>\n",
       "      <td>69.4</td>\n",
       "      <td>10.7</td>\n",
       "      <td>2.97</td>\n",
       "      <td>no</td>\n",
       "      <td>some_college</td>\n",
       "      <td>30826.61</td>\n",
       "      <td>50450.0</td>\n",
       "      <td>partial</td>\n",
       "    </tr>\n",
       "    <tr>\n",
       "      <td>403</td>\n",
       "      <td>Burke County</td>\n",
       "      <td>Georgia</td>\n",
       "      <td>22243.0</td>\n",
       "      <td>23316</td>\n",
       "      <td>22522.0</td>\n",
       "      <td>-1.34</td>\n",
       "      <td>29.2</td>\n",
       "      <td>71.7</td>\n",
       "      <td>10.5</td>\n",
       "      <td>7.08</td>\n",
       "      <td>yes</td>\n",
       "      <td>hs_diploma</td>\n",
       "      <td>18887.41</td>\n",
       "      <td>38707.0</td>\n",
       "      <td>none</td>\n",
       "    </tr>\n",
       "  </tbody>\n",
       "</table>\n",
       "</div>"
      ],
      "text/plain": [
       "                            name           state  pop2000  pop2010  pop2017  \\\n",
       "1945             McDowell County  North Carolina  42151.0    44996  45159.0   \n",
       "2339            Greenwood County  South Carolina  66271.0    69661  70355.0   \n",
       "91    Valdez-Cordova Census Area          Alaska  10195.0     9636   9278.0   \n",
       "2413              Perkins County    South Dakota   3363.0     2982   2974.0   \n",
       "403                 Burke County         Georgia  22243.0    23316  22522.0   \n",
       "\n",
       "      pop_change  poverty  homeownership  multi_unit  unemployment_rate metro  \\\n",
       "1945        0.20     19.3           72.6         7.0               4.15    no   \n",
       "2339        0.75     24.2           69.8        16.7               4.53    no   \n",
       "91         -5.06      7.4           71.8        17.6               7.96    no   \n",
       "2413       -1.43     12.0           69.4        10.7               2.97    no   \n",
       "403        -1.34     29.2           71.7        10.5               7.08   yes   \n",
       "\n",
       "        median_edu  per_capita_income  median_hh_income smoking_ban  \n",
       "1945    hs_diploma           20661.07           38776.0     partial  \n",
       "2339  some_college           22452.40           39196.0        none  \n",
       "91    some_college           30746.27           86019.0        none  \n",
       "2413  some_college           30826.61           50450.0     partial  \n",
       "403     hs_diploma           18887.41           38707.0        none  "
      ]
     },
     "execution_count": 44,
     "metadata": {},
     "output_type": "execute_result"
    }
   ],
   "source": [
    "random1 = after_drop.sample(200,replace = True, random_state = 100)\n",
    "random1.head()"
   ]
  },
  {
   "cell_type": "markdown",
   "metadata": {},
   "source": [
    "### 3.b. [1 pt] Calculate the mean and standard deviation median household income of this sample."
   ]
  },
  {
   "cell_type": "code",
   "execution_count": 45,
   "metadata": {},
   "outputs": [
    {
     "data": {
      "text/plain": [
       "49056.415"
      ]
     },
     "execution_count": 45,
     "metadata": {},
     "output_type": "execute_result"
    }
   ],
   "source": [
    "mean1 = random1['median_hh_income'].mean()\n",
    "mean1"
   ]
  },
  {
   "cell_type": "code",
   "execution_count": 46,
   "metadata": {},
   "outputs": [
    {
     "data": {
      "text/plain": [
       "13157.629103333147"
      ]
     },
     "execution_count": 46,
     "metadata": {},
     "output_type": "execute_result"
    }
   ],
   "source": [
    "sd1 = random1['median_hh_income'].std()\n",
    "sd1"
   ]
  },
  {
   "cell_type": "markdown",
   "metadata": {},
   "source": [
    "### 3.c. [1 pt] Plot the sample distribution median household income and describe the shape of the distribution (skew and modality).\n",
    "\n",
    "Make sure you accurately label the x-axis!"
   ]
  },
  {
   "cell_type": "code",
   "execution_count": 47,
   "metadata": {},
   "outputs": [
    {
     "data": {
      "image/png": "[encoded data removed]",
      "text/plain": [
       "<Figure size 432x288 with 1 Axes>"
      ]
     },
     "metadata": {},
     "output_type": "display_data"
    }
   ],
   "source": [
    "random1['median_hh_income'].hist(density= True)\n",
    "plt.title('population distribution graph for median household income')\n",
    "plt.xlabel('median household income for random selected 200 counties')\n",
    "plt.show()"
   ]
  },
  {
   "cell_type": "markdown",
   "metadata": {},
   "source": [
    "This graph is right skewed which would be explained both by it's visual and for it's mean is bigger than median. This is also a bimodal for it has two peaks"
   ]
  },
  {
   "cell_type": "markdown",
   "metadata": {},
   "source": [
    "### 3.d. [2 pt] Create a sampling distribution of sample means (using the median household income variable) with the following specifications:\n",
    "* the samples are of size 200\n",
    "* the distribution is comprised of 5000 sample means."
   ]
  },
  {
   "cell_type": "code",
   "execution_count": 48,
   "metadata": {},
   "outputs": [],
   "source": [
    "SampleMean = []\n",
    "for i in range(5000):\n",
    "    r_s_m = after_drop['median_hh_income'].sample(200, replace = True).mean()\n",
    "    SampleMean.append(r_s_m)\n",
    "    "
   ]
  },
  {
   "cell_type": "code",
   "execution_count": 49,
   "metadata": {},
   "outputs": [
    {
     "data": {
      "text/html": [
       "<div>\n",
       "<style scoped>\n",
       "    .dataframe tbody tr th:only-of-type {\n",
       "        vertical-align: middle;\n",
       "    }\n",
       "\n",
       "    .dataframe tbody tr th {\n",
       "        vertical-align: top;\n",
       "    }\n",
       "\n",
       "    .dataframe thead th {\n",
       "        text-align: right;\n",
       "    }\n",
       "</style>\n",
       "<table border=\"1\" class=\"dataframe\">\n",
       "  <thead>\n",
       "    <tr style=\"text-align: right;\">\n",
       "      <th></th>\n",
       "      <th>median_hh_income</th>\n",
       "    </tr>\n",
       "  </thead>\n",
       "  <tbody>\n",
       "    <tr>\n",
       "      <td>0</td>\n",
       "      <td>49250.895</td>\n",
       "    </tr>\n",
       "    <tr>\n",
       "      <td>1</td>\n",
       "      <td>48980.605</td>\n",
       "    </tr>\n",
       "    <tr>\n",
       "      <td>2</td>\n",
       "      <td>49715.475</td>\n",
       "    </tr>\n",
       "    <tr>\n",
       "      <td>3</td>\n",
       "      <td>50249.975</td>\n",
       "    </tr>\n",
       "    <tr>\n",
       "      <td>4</td>\n",
       "      <td>49830.820</td>\n",
       "    </tr>\n",
       "    <tr>\n",
       "      <td>...</td>\n",
       "      <td>...</td>\n",
       "    </tr>\n",
       "    <tr>\n",
       "      <td>4995</td>\n",
       "      <td>50469.270</td>\n",
       "    </tr>\n",
       "    <tr>\n",
       "      <td>4996</td>\n",
       "      <td>49298.920</td>\n",
       "    </tr>\n",
       "    <tr>\n",
       "      <td>4997</td>\n",
       "      <td>49605.275</td>\n",
       "    </tr>\n",
       "    <tr>\n",
       "      <td>4998</td>\n",
       "      <td>49187.020</td>\n",
       "    </tr>\n",
       "    <tr>\n",
       "      <td>4999</td>\n",
       "      <td>49292.010</td>\n",
       "    </tr>\n",
       "  </tbody>\n",
       "</table>\n",
       "<p>5000 rows × 1 columns</p>\n",
       "</div>"
      ],
      "text/plain": [
       "      median_hh_income\n",
       "0            49250.895\n",
       "1            48980.605\n",
       "2            49715.475\n",
       "3            50249.975\n",
       "4            49830.820\n",
       "...                ...\n",
       "4995         50469.270\n",
       "4996         49298.920\n",
       "4997         49605.275\n",
       "4998         49187.020\n",
       "4999         49292.010\n",
       "\n",
       "[5000 rows x 1 columns]"
      ]
     },
     "execution_count": 49,
     "metadata": {},
     "output_type": "execute_result"
    }
   ],
   "source": [
    "samplingDis = pd.DataFrame({'median_hh_income':SampleMean})\n",
    "samplingDis"
   ]
  },
  {
   "cell_type": "markdown",
   "metadata": {},
   "source": [
    "### 3.e. [1 pt] Calculate the mean and standard deviation of this sampling distribution."
   ]
  },
  {
   "cell_type": "code",
   "execution_count": 50,
   "metadata": {},
   "outputs": [
    {
     "name": "stdout",
     "output_type": "stream",
     "text": [
      "49024.642727999904\n"
     ]
    }
   ],
   "source": [
    "print(samplingDis['median_hh_income'].mean())"
   ]
  },
  {
   "cell_type": "code",
   "execution_count": 51,
   "metadata": {},
   "outputs": [
    {
     "name": "stdout",
     "output_type": "stream",
     "text": [
      "905.8042753097517\n"
     ]
    }
   ],
   "source": [
    "print(samplingDis['median_hh_income'].std())"
   ]
  },
  {
   "cell_type": "markdown",
   "metadata": {},
   "source": [
    "### 3.f. [1 pt] Plot the sampling distribution and describe the shape (modality and skew).\n",
    "\n",
    "#### Make sure you accurately label the x-axis."
   ]
  },
  {
   "cell_type": "code",
   "execution_count": 52,
   "metadata": {},
   "outputs": [
    {
     "data": {
      "image/png": "[encoded data removed]",
      "text/plain": [
       "<Figure size 432x288 with 1 Axes>"
      ]
     },
     "metadata": {},
     "output_type": "display_data"
    },
    {
     "name": "stdout",
     "output_type": "stream",
     "text": [
      "49009.5275\n"
     ]
    }
   ],
   "source": [
    "samplingDis['median_hh_income'].hist(density= True)\n",
    "plt.title('sampling distribution n=200')\n",
    "plt.xlabel('sampling distribution of sample means with 5000 mean of random select 200 counties')\n",
    "plt.ylabel('density')\n",
    "plt.show()\n",
    "print(samplingDis['median_hh_income'].median())"
   ]
  },
  {
   "cell_type": "markdown",
   "metadata": {},
   "source": [
    "This graph is symmetroc for both visulation and it's mean is roughly it's median. Also this graph is unimodalfor it only has one peak around the middle."
   ]
  },
  {
   "cell_type": "markdown",
   "metadata": {},
   "source": [
    "## 4.  <u>Comparing Population and Sampling Distributions</u>\n",
    "\n",
    "### 4.a. [2 pt] If you randomly sampled a county from the population of counties (post-data cleaning) what would be the probability that this county has a median household income that was at least $52,000?"
   ]
  },
  {
   "cell_type": "code",
   "execution_count": 53,
   "metadata": {},
   "outputs": [
    {
     "data": {
      "text/html": [
       "<div>\n",
       "<style scoped>\n",
       "    .dataframe tbody tr th:only-of-type {\n",
       "        vertical-align: middle;\n",
       "    }\n",
       "\n",
       "    .dataframe tbody tr th {\n",
       "        vertical-align: top;\n",
       "    }\n",
       "\n",
       "    .dataframe thead th {\n",
       "        text-align: right;\n",
       "    }\n",
       "</style>\n",
       "<table border=\"1\" class=\"dataframe\">\n",
       "  <thead>\n",
       "    <tr style=\"text-align: right;\">\n",
       "      <th></th>\n",
       "      <th>name</th>\n",
       "      <th>state</th>\n",
       "      <th>pop2000</th>\n",
       "      <th>pop2010</th>\n",
       "      <th>pop2017</th>\n",
       "      <th>pop_change</th>\n",
       "      <th>poverty</th>\n",
       "      <th>homeownership</th>\n",
       "      <th>multi_unit</th>\n",
       "      <th>unemployment_rate</th>\n",
       "      <th>metro</th>\n",
       "      <th>median_edu</th>\n",
       "      <th>per_capita_income</th>\n",
       "      <th>median_hh_income</th>\n",
       "      <th>smoking_ban</th>\n",
       "    </tr>\n",
       "  </thead>\n",
       "  <tbody>\n",
       "    <tr>\n",
       "      <td>0</td>\n",
       "      <td>Autauga County</td>\n",
       "      <td>Alabama</td>\n",
       "      <td>43671.0</td>\n",
       "      <td>54571</td>\n",
       "      <td>55504.0</td>\n",
       "      <td>1.48</td>\n",
       "      <td>13.7</td>\n",
       "      <td>77.5</td>\n",
       "      <td>7.2</td>\n",
       "      <td>3.86</td>\n",
       "      <td>yes</td>\n",
       "      <td>some_college</td>\n",
       "      <td>27841.70</td>\n",
       "      <td>55317.0</td>\n",
       "      <td>none</td>\n",
       "    </tr>\n",
       "    <tr>\n",
       "      <td>1</td>\n",
       "      <td>Baldwin County</td>\n",
       "      <td>Alabama</td>\n",
       "      <td>140415.0</td>\n",
       "      <td>182265</td>\n",
       "      <td>212628.0</td>\n",
       "      <td>9.19</td>\n",
       "      <td>11.8</td>\n",
       "      <td>76.7</td>\n",
       "      <td>22.6</td>\n",
       "      <td>3.99</td>\n",
       "      <td>yes</td>\n",
       "      <td>some_college</td>\n",
       "      <td>27779.85</td>\n",
       "      <td>52562.0</td>\n",
       "      <td>none</td>\n",
       "    </tr>\n",
       "    <tr>\n",
       "      <td>25</td>\n",
       "      <td>Elmore County</td>\n",
       "      <td>Alabama</td>\n",
       "      <td>65874.0</td>\n",
       "      <td>79303</td>\n",
       "      <td>81677.0</td>\n",
       "      <td>1.39</td>\n",
       "      <td>13.5</td>\n",
       "      <td>77.6</td>\n",
       "      <td>7.0</td>\n",
       "      <td>3.64</td>\n",
       "      <td>yes</td>\n",
       "      <td>some_college</td>\n",
       "      <td>27266.03</td>\n",
       "      <td>54981.0</td>\n",
       "      <td>partial</td>\n",
       "    </tr>\n",
       "    <tr>\n",
       "      <td>41</td>\n",
       "      <td>Limestone County</td>\n",
       "      <td>Alabama</td>\n",
       "      <td>65676.0</td>\n",
       "      <td>82782</td>\n",
       "      <td>94402.0</td>\n",
       "      <td>6.19</td>\n",
       "      <td>14.8</td>\n",
       "      <td>77.1</td>\n",
       "      <td>9.4</td>\n",
       "      <td>3.98</td>\n",
       "      <td>yes</td>\n",
       "      <td>some_college</td>\n",
       "      <td>25685.40</td>\n",
       "      <td>52831.0</td>\n",
       "      <td>none</td>\n",
       "    </tr>\n",
       "    <tr>\n",
       "      <td>57</td>\n",
       "      <td>St. Clair County</td>\n",
       "      <td>Alabama</td>\n",
       "      <td>64742.0</td>\n",
       "      <td>83593</td>\n",
       "      <td>88199.0</td>\n",
       "      <td>2.52</td>\n",
       "      <td>13.7</td>\n",
       "      <td>82.2</td>\n",
       "      <td>5.5</td>\n",
       "      <td>3.97</td>\n",
       "      <td>yes</td>\n",
       "      <td>hs_diploma</td>\n",
       "      <td>24731.80</td>\n",
       "      <td>53483.0</td>\n",
       "      <td>none</td>\n",
       "    </tr>\n",
       "    <tr>\n",
       "      <td>...</td>\n",
       "      <td>...</td>\n",
       "      <td>...</td>\n",
       "      <td>...</td>\n",
       "      <td>...</td>\n",
       "      <td>...</td>\n",
       "      <td>...</td>\n",
       "      <td>...</td>\n",
       "      <td>...</td>\n",
       "      <td>...</td>\n",
       "      <td>...</td>\n",
       "      <td>...</td>\n",
       "      <td>...</td>\n",
       "      <td>...</td>\n",
       "      <td>...</td>\n",
       "      <td>...</td>\n",
       "    </tr>\n",
       "    <tr>\n",
       "      <td>3136</td>\n",
       "      <td>Sublette County</td>\n",
       "      <td>Wyoming</td>\n",
       "      <td>5920.0</td>\n",
       "      <td>10247</td>\n",
       "      <td>9799.0</td>\n",
       "      <td>-3.67</td>\n",
       "      <td>7.4</td>\n",
       "      <td>73.6</td>\n",
       "      <td>3.3</td>\n",
       "      <td>4.37</td>\n",
       "      <td>no</td>\n",
       "      <td>some_college</td>\n",
       "      <td>28810.97</td>\n",
       "      <td>84911.0</td>\n",
       "      <td>none</td>\n",
       "    </tr>\n",
       "    <tr>\n",
       "      <td>3137</td>\n",
       "      <td>Sweetwater County</td>\n",
       "      <td>Wyoming</td>\n",
       "      <td>37613.0</td>\n",
       "      <td>43806</td>\n",
       "      <td>43534.0</td>\n",
       "      <td>-3.57</td>\n",
       "      <td>12.0</td>\n",
       "      <td>73.7</td>\n",
       "      <td>14.6</td>\n",
       "      <td>4.55</td>\n",
       "      <td>no</td>\n",
       "      <td>some_college</td>\n",
       "      <td>30282.59</td>\n",
       "      <td>71083.0</td>\n",
       "      <td>none</td>\n",
       "    </tr>\n",
       "    <tr>\n",
       "      <td>3138</td>\n",
       "      <td>Teton County</td>\n",
       "      <td>Wyoming</td>\n",
       "      <td>18251.0</td>\n",
       "      <td>21294</td>\n",
       "      <td>23265.0</td>\n",
       "      <td>4.21</td>\n",
       "      <td>6.8</td>\n",
       "      <td>60.8</td>\n",
       "      <td>31.9</td>\n",
       "      <td>2.99</td>\n",
       "      <td>no</td>\n",
       "      <td>bachelors</td>\n",
       "      <td>48557.37</td>\n",
       "      <td>80049.0</td>\n",
       "      <td>partial</td>\n",
       "    </tr>\n",
       "    <tr>\n",
       "      <td>3139</td>\n",
       "      <td>Uinta County</td>\n",
       "      <td>Wyoming</td>\n",
       "      <td>19742.0</td>\n",
       "      <td>21118</td>\n",
       "      <td>20495.0</td>\n",
       "      <td>-2.22</td>\n",
       "      <td>14.9</td>\n",
       "      <td>73.7</td>\n",
       "      <td>17.0</td>\n",
       "      <td>4.50</td>\n",
       "      <td>no</td>\n",
       "      <td>some_college</td>\n",
       "      <td>27048.12</td>\n",
       "      <td>54672.0</td>\n",
       "      <td>none</td>\n",
       "    </tr>\n",
       "    <tr>\n",
       "      <td>3141</td>\n",
       "      <td>Weston County</td>\n",
       "      <td>Wyoming</td>\n",
       "      <td>6644.0</td>\n",
       "      <td>7208</td>\n",
       "      <td>6927.0</td>\n",
       "      <td>-2.93</td>\n",
       "      <td>14.4</td>\n",
       "      <td>77.9</td>\n",
       "      <td>6.5</td>\n",
       "      <td>3.98</td>\n",
       "      <td>no</td>\n",
       "      <td>some_college</td>\n",
       "      <td>33296.70</td>\n",
       "      <td>59605.0</td>\n",
       "      <td>none</td>\n",
       "    </tr>\n",
       "  </tbody>\n",
       "</table>\n",
       "<p>869 rows × 15 columns</p>\n",
       "</div>"
      ],
      "text/plain": [
       "                   name    state   pop2000  pop2010   pop2017  pop_change  \\\n",
       "0        Autauga County  Alabama   43671.0    54571   55504.0        1.48   \n",
       "1        Baldwin County  Alabama  140415.0   182265  212628.0        9.19   \n",
       "25        Elmore County  Alabama   65874.0    79303   81677.0        1.39   \n",
       "41     Limestone County  Alabama   65676.0    82782   94402.0        6.19   \n",
       "57     St. Clair County  Alabama   64742.0    83593   88199.0        2.52   \n",
       "...                 ...      ...       ...      ...       ...         ...   \n",
       "3136    Sublette County  Wyoming    5920.0    10247    9799.0       -3.67   \n",
       "3137  Sweetwater County  Wyoming   37613.0    43806   43534.0       -3.57   \n",
       "3138       Teton County  Wyoming   18251.0    21294   23265.0        4.21   \n",
       "3139       Uinta County  Wyoming   19742.0    21118   20495.0       -2.22   \n",
       "3141      Weston County  Wyoming    6644.0     7208    6927.0       -2.93   \n",
       "\n",
       "      poverty  homeownership  multi_unit  unemployment_rate metro  \\\n",
       "0        13.7           77.5         7.2               3.86   yes   \n",
       "1        11.8           76.7        22.6               3.99   yes   \n",
       "25       13.5           77.6         7.0               3.64   yes   \n",
       "41       14.8           77.1         9.4               3.98   yes   \n",
       "57       13.7           82.2         5.5               3.97   yes   \n",
       "...       ...            ...         ...                ...   ...   \n",
       "3136      7.4           73.6         3.3               4.37    no   \n",
       "3137     12.0           73.7        14.6               4.55    no   \n",
       "3138      6.8           60.8        31.9               2.99    no   \n",
       "3139     14.9           73.7        17.0               4.50    no   \n",
       "3141     14.4           77.9         6.5               3.98    no   \n",
       "\n",
       "        median_edu  per_capita_income  median_hh_income smoking_ban  \n",
       "0     some_college           27841.70           55317.0        none  \n",
       "1     some_college           27779.85           52562.0        none  \n",
       "25    some_college           27266.03           54981.0     partial  \n",
       "41    some_college           25685.40           52831.0        none  \n",
       "57      hs_diploma           24731.80           53483.0        none  \n",
       "...            ...                ...               ...         ...  \n",
       "3136  some_college           28810.97           84911.0        none  \n",
       "3137  some_college           30282.59           71083.0        none  \n",
       "3138     bachelors           48557.37           80049.0     partial  \n",
       "3139  some_college           27048.12           54672.0        none  \n",
       "3141  some_college           33296.70           59605.0        none  \n",
       "\n",
       "[869 rows x 15 columns]"
      ]
     },
     "execution_count": 53,
     "metadata": {},
     "output_type": "execute_result"
    }
   ],
   "source": [
    "equal_or_above = after_drop[after_drop['median_hh_income'] >= 52000]\n",
    "equal_or_above"
   ]
  },
  {
   "cell_type": "code",
   "execution_count": 54,
   "metadata": {},
   "outputs": [
    {
     "name": "stdout",
     "output_type": "stream",
     "text": [
      "probability that this county has a median household income that was at least $52,000 is: 0.3395857756936303\n"
     ]
    }
   ],
   "source": [
    "total = after_drop.shape[0]\n",
    "EorA = equal_or_above.shape[0]\n",
    "prob = EorA/total\n",
    "print('probability that this county has a median household income that was at least $52,000 is:', prob)"
   ]
  },
  {
   "cell_type": "markdown",
   "metadata": {},
   "source": [
    "### 4.b. [1 pt] If you randomly sampled a sample mean from the sampling distribution what would be the probability that sample mean was at least $52,000?"
   ]
  },
  {
   "cell_type": "code",
   "execution_count": 55,
   "metadata": {},
   "outputs": [
    {
     "name": "stdout",
     "output_type": "stream",
     "text": [
      "probability that sample mean was at least $52,000 0.0006\n"
     ]
    }
   ],
   "source": [
    "pos = samplingDis[samplingDis['median_hh_income'] >= 52000].shape[0] / samplingDis.shape[0] \n",
    "print('probability that sample mean was at least $52,000', pos)"
   ]
  },
  {
   "cell_type": "markdown",
   "metadata": {},
   "source": [
    "## 5. <u>Probability</u>: \n",
    "The work we do here will help develop intuition for topics we will cover in next week's lectures. (You have everything you need to answer these questions though.)"
   ]
  },
  {
   "cell_type": "markdown",
   "metadata": {},
   "source": [
    "### 5.a. [1 pt] Suppose we were to collect a random sample <u>with replacement</u> of six counties (from our post-data cleaning dataframe). What is the probability that the first and fifth sampled counties have a median income of at least $52,000 and the other four do not?"
   ]
  },
  {
   "cell_type": "code",
   "execution_count": 56,
   "metadata": {},
   "outputs": [
    {
     "data": {
      "text/plain": [
       "0.02193636461011993"
      ]
     },
     "execution_count": 56,
     "metadata": {},
     "output_type": "execute_result"
    }
   ],
   "source": [
    "prob * ((1-prob)**3)*prob * (1-prob)"
   ]
  },
  {
   "cell_type": "markdown",
   "metadata": {},
   "source": [
    "### 5.b. [1 pt] What is the probability that the second and fourth sampled counties have a median income of at least $52,000 and the other four do not?"
   ]
  },
  {
   "cell_type": "code",
   "execution_count": 57,
   "metadata": {},
   "outputs": [
    {
     "data": {
      "text/plain": [
       "0.02193636461011993"
      ]
     },
     "execution_count": 57,
     "metadata": {},
     "output_type": "execute_result"
    }
   ],
   "source": [
    "(1-prob)*prob*(1-prob)*prob*(1-prob)*(1-prob)"
   ]
  },
  {
   "cell_type": "markdown",
   "metadata": {},
   "source": [
    "### 5.c. [1 pt] Define the following events as follows.\n",
    "* <u>event 1</u>: the sample that we collect has the second and fourth sampled counties have a median income of at least \\$52,000 and the other four do not\n",
    "* <u>event 2</u>: the SAME sample that we collect has the first and fifth sampled counties have a median income of at least $52,000 and the other four do not.\n",
    "\n",
    "### Are event 1 and event 2 mutually exclusive? Why or why not?"
   ]
  },
  {
   "cell_type": "markdown",
   "metadata": {},
   "source": [
    "yes they are, because the two event have the same sample and if the sample fits event 1 than it's first third fifth and sixth dample will be lower than 52000 which dors not the descrition of event 2 so they are mutually exclusive"
   ]
  },
  {
   "cell_type": "markdown",
   "metadata": {},
   "source": [
    "### 5.d. [2 pt] How many possible ways(ie. orderings) can have exactly two of our six sampled counties have a median houeshold income of at least $52,000?\n",
    "\n",
    "Hint: Event 1 and event 2 above are two ways (orderings) in which this can happen, there are several other ways.\n",
    "\n",
    "Hint: How many possible ways can we choose two out of the six available positions within the sample (ie. position 1=county that was selected first, position 2=county that was selected second,...) to have a median household income over $52,000."
   ]
  },
  {
   "cell_type": "code",
   "execution_count": 58,
   "metadata": {},
   "outputs": [
    {
     "data": {
      "text/plain": [
       "15.0"
      ]
     },
     "execution_count": 58,
     "metadata": {},
     "output_type": "execute_result"
    }
   ],
   "source": [
    "(6*5)/2"
   ]
  },
  {
   "cell_type": "markdown",
   "metadata": {},
   "source": [
    "### 5.e. [1 pt] What is the probability that a randomly selected county from the population (post data-cleaning) will have a median educational attainment of 'bachelors'?"
   ]
  },
  {
   "cell_type": "code",
   "execution_count": 59,
   "metadata": {},
   "outputs": [],
   "source": [
    "bachelors = after_drop[after_drop['median_edu'] == 'bachelors']\n"
   ]
  },
  {
   "cell_type": "code",
   "execution_count": 60,
   "metadata": {},
   "outputs": [
    {
     "data": {
      "text/plain": [
       "0.014458772958186792"
      ]
     },
     "execution_count": 60,
     "metadata": {},
     "output_type": "execute_result"
    }
   ],
   "source": [
    "prob = bachelors.shape[0]/after_drop.shape[0]\n",
    "prob"
   ]
  },
  {
   "cell_type": "markdown",
   "metadata": {},
   "source": [
    "### Tutorial: Filtering on Multiple Row Conditions in a Dataframe.\n",
    "\n",
    "* We can use the \"&\" operator to write (condition 1) & (condition 2), in which condition 1 AND condition 2 must be met.\n",
    "* We can use the \"|\" operator to write (condition 1) | (condition 2), in which condition 1 OR condition 2 must be met."
   ]
  },
  {
   "cell_type": "code",
   "execution_count": 61,
   "metadata": {},
   "outputs": [
    {
     "data": {
      "text/html": [
       "<div>\n",
       "<style scoped>\n",
       "    .dataframe tbody tr th:only-of-type {\n",
       "        vertical-align: middle;\n",
       "    }\n",
       "\n",
       "    .dataframe tbody tr th {\n",
       "        vertical-align: top;\n",
       "    }\n",
       "\n",
       "    .dataframe thead th {\n",
       "        text-align: right;\n",
       "    }\n",
       "</style>\n",
       "<table border=\"1\" class=\"dataframe\">\n",
       "  <thead>\n",
       "    <tr style=\"text-align: right;\">\n",
       "      <th></th>\n",
       "      <th>year</th>\n",
       "      <th>major</th>\n",
       "    </tr>\n",
       "  </thead>\n",
       "  <tbody>\n",
       "    <tr>\n",
       "      <td>0</td>\n",
       "      <td>fresh</td>\n",
       "      <td>stats</td>\n",
       "    </tr>\n",
       "    <tr>\n",
       "      <td>1</td>\n",
       "      <td>soph</td>\n",
       "      <td>cs</td>\n",
       "    </tr>\n",
       "    <tr>\n",
       "      <td>2</td>\n",
       "      <td>soph</td>\n",
       "      <td>underwater_basket_weaving</td>\n",
       "    </tr>\n",
       "    <tr>\n",
       "      <td>3</td>\n",
       "      <td>junior</td>\n",
       "      <td>cs</td>\n",
       "    </tr>\n",
       "  </tbody>\n",
       "</table>\n",
       "</div>"
      ],
      "text/plain": [
       "     year                      major\n",
       "0   fresh                      stats\n",
       "1    soph                         cs\n",
       "2    soph  underwater_basket_weaving\n",
       "3  junior                         cs"
      ]
     },
     "execution_count": 61,
     "metadata": {},
     "output_type": "execute_result"
    }
   ],
   "source": [
    "import pandas as pd\n",
    "smalldf=pd.DataFrame({'year':['fresh','soph', 'soph', 'junior'], 'major': ['stats','cs','underwater_basket_weaving','cs']})\n",
    "smalldf"
   ]
  },
  {
   "cell_type": "code",
   "execution_count": 62,
   "metadata": {},
   "outputs": [
    {
     "data": {
      "text/html": [
       "<div>\n",
       "<style scoped>\n",
       "    .dataframe tbody tr th:only-of-type {\n",
       "        vertical-align: middle;\n",
       "    }\n",
       "\n",
       "    .dataframe tbody tr th {\n",
       "        vertical-align: top;\n",
       "    }\n",
       "\n",
       "    .dataframe thead th {\n",
       "        text-align: right;\n",
       "    }\n",
       "</style>\n",
       "<table border=\"1\" class=\"dataframe\">\n",
       "  <thead>\n",
       "    <tr style=\"text-align: right;\">\n",
       "      <th></th>\n",
       "      <th>year</th>\n",
       "      <th>major</th>\n",
       "    </tr>\n",
       "  </thead>\n",
       "  <tbody>\n",
       "    <tr>\n",
       "      <td>1</td>\n",
       "      <td>soph</td>\n",
       "      <td>cs</td>\n",
       "    </tr>\n",
       "  </tbody>\n",
       "</table>\n",
       "</div>"
      ],
      "text/plain": [
       "   year major\n",
       "1  soph    cs"
      ]
     },
     "execution_count": 62,
     "metadata": {},
     "output_type": "execute_result"
    }
   ],
   "source": [
    "smalldf[(smalldf['year']=='soph') & (smalldf['major']=='cs')]"
   ]
  },
  {
   "cell_type": "code",
   "execution_count": 63,
   "metadata": {},
   "outputs": [
    {
     "data": {
      "text/html": [
       "<div>\n",
       "<style scoped>\n",
       "    .dataframe tbody tr th:only-of-type {\n",
       "        vertical-align: middle;\n",
       "    }\n",
       "\n",
       "    .dataframe tbody tr th {\n",
       "        vertical-align: top;\n",
       "    }\n",
       "\n",
       "    .dataframe thead th {\n",
       "        text-align: right;\n",
       "    }\n",
       "</style>\n",
       "<table border=\"1\" class=\"dataframe\">\n",
       "  <thead>\n",
       "    <tr style=\"text-align: right;\">\n",
       "      <th></th>\n",
       "      <th>year</th>\n",
       "      <th>major</th>\n",
       "    </tr>\n",
       "  </thead>\n",
       "  <tbody>\n",
       "    <tr>\n",
       "      <td>1</td>\n",
       "      <td>soph</td>\n",
       "      <td>cs</td>\n",
       "    </tr>\n",
       "    <tr>\n",
       "      <td>2</td>\n",
       "      <td>soph</td>\n",
       "      <td>underwater_basket_weaving</td>\n",
       "    </tr>\n",
       "    <tr>\n",
       "      <td>3</td>\n",
       "      <td>junior</td>\n",
       "      <td>cs</td>\n",
       "    </tr>\n",
       "  </tbody>\n",
       "</table>\n",
       "</div>"
      ],
      "text/plain": [
       "     year                      major\n",
       "1    soph                         cs\n",
       "2    soph  underwater_basket_weaving\n",
       "3  junior                         cs"
      ]
     },
     "execution_count": 63,
     "metadata": {},
     "output_type": "execute_result"
    }
   ],
   "source": [
    "smalldf[(smalldf['year']=='soph') | (smalldf['major']=='cs')]"
   ]
  },
  {
   "cell_type": "markdown",
   "metadata": {},
   "source": [
    "### 5.f. [1 pt] What is the probability that if we randomly select a county from our population (post-data cleaning) that the county has a median household income of at least $52,000 and a median education attaintment of a bachelors degree?"
   ]
  },
  {
   "cell_type": "code",
   "execution_count": 64,
   "metadata": {},
   "outputs": [
    {
     "data": {
      "text/plain": [
       "0.014458772958186792"
      ]
     },
     "execution_count": 64,
     "metadata": {},
     "output_type": "execute_result"
    }
   ],
   "source": [
    "probb = after_drop[(after_drop['median_edu'] == 'bachelors') & (after_drop['median_hh_income'] >= 52000)]\n",
    "pprobb = probb.shape[0]/after_drop.shape[0]\n",
    "pprobb"
   ]
  },
  {
   "cell_type": "markdown",
   "metadata": {},
   "source": [
    "### 5.g. [1 pt] Is the event of randomly selecting a county that has a median household income of at least $52,000 independent of the event of randomly selecting a county that has a median education attainment of a bachelor's degree? Why or why not?"
   ]
  },
  {
   "cell_type": "markdown",
   "metadata": {},
   "source": [
    "yes, because the probability of randomly selecting a county that has a median education attainment of a bachelor's degree is given(condition A), when we know the probability of a county that has a median household income of at least $52,000(condition B)."
   ]
  },
  {
   "cell_type": "markdown",
   "metadata": {},
   "source": [
    "In this question it fits P(A|B) = P(A) which the equation indicate the two event are independent to each other"
   ]
  },
  {
   "cell_type": "code",
   "execution_count": null,
   "metadata": {},
   "outputs": [],
   "source": []
  }
 ],
 "metadata": {
  "kernelspec": {
   "display_name": "Python 3",
   "language": "python",
   "name": "python3"
  },
  "language_info": {
   "codemirror_mode": {
    "name": "ipython",
    "version": 3
   },
   "file_extension": ".py",
   "mimetype": "text/x-python",
   "name": "python",
   "nbconvert_exporter": "python",
   "pygments_lexer": "ipython3",
   "version": "3.7.4"
  }
 },
 "nbformat": 4,
 "nbformat_minor": 2
}
