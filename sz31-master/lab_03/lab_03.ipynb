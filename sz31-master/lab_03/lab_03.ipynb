{
 "cells": [
  {
   "cell_type": "markdown",
   "metadata": {},
   "source": [
    "## STAT 207 Lab 3: Sampling, Loops and Functions - [30 total points]"
   ]
  },
  {
   "cell_type": "markdown",
   "metadata": {},
   "source": [
    "Due: Wednesday, February 17, 11:59pm CST"
   ]
  },
  {
   "cell_type": "markdown",
   "metadata": {},
   "source": [
    "### SOLUTIONS"
   ]
  },
  {
   "cell_type": "markdown",
   "metadata": {},
   "source": [
    "This lab consists of 3 main parts. You may add as many cells as you need in order to do the exercises. To add cells use the \"Insert\" tab from the menu bar above and select \"insert cell above\" or \"insert cell below\". \n",
    "\n",
    "The data file \"cards.csv\" is included in the release. It is a data frame representing the 52 cards in a standard deck of playing cards. Each row represents one of the 52 possible cards. For further details see the course notes \"04_Sampling\".\n",
    "\n",
    "**Note: Some problems require deriving answers mathematically or explaining rather than coding.**"
   ]
  },
  {
   "cell_type": "code",
   "execution_count": 27,
   "metadata": {},
   "outputs": [],
   "source": [
    "import pandas as pd"
   ]
  },
  {
   "cell_type": "markdown",
   "metadata": {},
   "source": [
    "## Question 1: [2 pts] *Calculating* the probability of drawing a five-card hand with two diamonds.\n",
    "\n",
    "### 1a.  How many combinations of two diamonds can you make from a standard deck of cards?\n",
    "\n",
    "Hint: How many diamonds are in the deck?"
   ]
  },
  {
   "cell_type": "code",
   "execution_count": 28,
   "metadata": {},
   "outputs": [
    {
     "data": {
      "text/plain": [
       "78.0"
      ]
     },
     "execution_count": 28,
     "metadata": {},
     "output_type": "execute_result"
    }
   ],
   "source": [
    "combinations = 13*12/2\n",
    "combinations"
   ]
  },
  {
   "cell_type": "markdown",
   "metadata": {},
   "source": [
    "### 1b. [2 pts] How many combinations of three non-diamonds can you make from a standard deck of cards?\n",
    "\n",
    "Hint: How many non-diamonds are in the deck?"
   ]
  },
  {
   "cell_type": "code",
   "execution_count": 29,
   "metadata": {},
   "outputs": [
    {
     "data": {
      "text/plain": [
       "9139.0"
      ]
     },
     "execution_count": 29,
     "metadata": {},
     "output_type": "execute_result"
    }
   ],
   "source": [
    "combinations_3other = 39*38*37/6\n",
    "combinations_3other"
   ]
  },
  {
   "cell_type": "markdown",
   "metadata": {},
   "source": [
    "### 1c. [2pts]  How many combinations of five card hands contain two diamonds and three non-diamonds?"
   ]
  },
  {
   "cell_type": "code",
   "execution_count": 30,
   "metadata": {},
   "outputs": [
    {
     "data": {
      "text/plain": [
       "712842.0"
      ]
     },
     "execution_count": 30,
     "metadata": {},
     "output_type": "execute_result"
    }
   ],
   "source": [
    "combination_all = combinations * combinations_3other\n",
    "combination_all"
   ]
  },
  {
   "cell_type": "markdown",
   "metadata": {},
   "source": [
    "### 1d. [2 pts] What is the probability of randomly drawing five cards from the deck and getting a hand that has two diamond and three non-diamonds?"
   ]
  },
  {
   "cell_type": "code",
   "execution_count": 31,
   "metadata": {},
   "outputs": [
    {
     "data": {
      "text/plain": [
       "2598960.0"
      ]
     },
     "execution_count": 31,
     "metadata": {},
     "output_type": "execute_result"
    }
   ],
   "source": [
    "prob_all = 52*51*50*49*48/(5*4*3*2)\n",
    "prob_all"
   ]
  },
  {
   "cell_type": "code",
   "execution_count": 32,
   "metadata": {},
   "outputs": [
    {
     "name": "stdout",
     "output_type": "stream",
     "text": [
      "probality is 0.2742797118847539\n"
     ]
    }
   ],
   "source": [
    "prob = (combination_all /prob_all)\n",
    "print('probality is',prob)"
   ]
  },
  {
   "cell_type": "markdown",
   "metadata": {},
   "source": [
    "## Question 2: *Approximating* the probability of drawing a five-card hand with exactly two diamonds."
   ]
  },
  {
   "cell_type": "markdown",
   "metadata": {},
   "source": [
    "### 2a. [1 pt] Read the cards.csv into a dataframe called cards and display the first five rows of the dataframe."
   ]
  },
  {
   "cell_type": "code",
   "execution_count": 33,
   "metadata": {},
   "outputs": [
    {
     "data": {
      "text/html": [
       "<div>\n",
       "<style scoped>\n",
       "    .dataframe tbody tr th:only-of-type {\n",
       "        vertical-align: middle;\n",
       "    }\n",
       "\n",
       "    .dataframe tbody tr th {\n",
       "        vertical-align: top;\n",
       "    }\n",
       "\n",
       "    .dataframe thead th {\n",
       "        text-align: right;\n",
       "    }\n",
       "</style>\n",
       "<table border=\"1\" class=\"dataframe\">\n",
       "  <thead>\n",
       "    <tr style=\"text-align: right;\">\n",
       "      <th></th>\n",
       "      <th>color</th>\n",
       "      <th>suit</th>\n",
       "      <th>face</th>\n",
       "    </tr>\n",
       "  </thead>\n",
       "  <tbody>\n",
       "    <tr>\n",
       "      <td>0</td>\n",
       "      <td>black</td>\n",
       "      <td>club</td>\n",
       "      <td>A</td>\n",
       "    </tr>\n",
       "    <tr>\n",
       "      <td>1</td>\n",
       "      <td>black</td>\n",
       "      <td>club</td>\n",
       "      <td>2</td>\n",
       "    </tr>\n",
       "    <tr>\n",
       "      <td>2</td>\n",
       "      <td>black</td>\n",
       "      <td>club</td>\n",
       "      <td>3</td>\n",
       "    </tr>\n",
       "    <tr>\n",
       "      <td>3</td>\n",
       "      <td>black</td>\n",
       "      <td>club</td>\n",
       "      <td>4</td>\n",
       "    </tr>\n",
       "    <tr>\n",
       "      <td>4</td>\n",
       "      <td>black</td>\n",
       "      <td>club</td>\n",
       "      <td>5</td>\n",
       "    </tr>\n",
       "  </tbody>\n",
       "</table>\n",
       "</div>"
      ],
      "text/plain": [
       "   color  suit face\n",
       "0  black  club    A\n",
       "1  black  club    2\n",
       "2  black  club    3\n",
       "3  black  club    4\n",
       "4  black  club    5"
      ]
     },
     "execution_count": 33,
     "metadata": {},
     "output_type": "execute_result"
    }
   ],
   "source": [
    "cards = pd.read_csv('cards.csv')\n",
    "cards.head()"
   ]
  },
  {
   "cell_type": "markdown",
   "metadata": {},
   "source": [
    "### 2b. [2 pts] Create a new dataframe called 'sample1' that is a random sample of five rows from this dataframe in the following way.\n",
    "* Sample without replacemnt.\n",
    "* Use a random state of 7.\n",
    "\n",
    "#### Then display this dataframe."
   ]
  },
  {
   "cell_type": "code",
   "execution_count": 34,
   "metadata": {},
   "outputs": [
    {
     "data": {
      "text/html": [
       "<div>\n",
       "<style scoped>\n",
       "    .dataframe tbody tr th:only-of-type {\n",
       "        vertical-align: middle;\n",
       "    }\n",
       "\n",
       "    .dataframe tbody tr th {\n",
       "        vertical-align: top;\n",
       "    }\n",
       "\n",
       "    .dataframe thead th {\n",
       "        text-align: right;\n",
       "    }\n",
       "</style>\n",
       "<table border=\"1\" class=\"dataframe\">\n",
       "  <thead>\n",
       "    <tr style=\"text-align: right;\">\n",
       "      <th></th>\n",
       "      <th>color</th>\n",
       "      <th>suit</th>\n",
       "      <th>face</th>\n",
       "    </tr>\n",
       "  </thead>\n",
       "  <tbody>\n",
       "    <tr>\n",
       "      <td>22</td>\n",
       "      <td>black</td>\n",
       "      <td>spade</td>\n",
       "      <td>10</td>\n",
       "    </tr>\n",
       "    <tr>\n",
       "      <td>27</td>\n",
       "      <td>red</td>\n",
       "      <td>diamond</td>\n",
       "      <td>2</td>\n",
       "    </tr>\n",
       "    <tr>\n",
       "      <td>34</td>\n",
       "      <td>red</td>\n",
       "      <td>diamond</td>\n",
       "      <td>9</td>\n",
       "    </tr>\n",
       "    <tr>\n",
       "      <td>15</td>\n",
       "      <td>black</td>\n",
       "      <td>spade</td>\n",
       "      <td>3</td>\n",
       "    </tr>\n",
       "    <tr>\n",
       "      <td>18</td>\n",
       "      <td>black</td>\n",
       "      <td>spade</td>\n",
       "      <td>6</td>\n",
       "    </tr>\n",
       "  </tbody>\n",
       "</table>\n",
       "</div>"
      ],
      "text/plain": [
       "    color     suit face\n",
       "22  black    spade   10\n",
       "27    red  diamond    2\n",
       "34    red  diamond    9\n",
       "15  black    spade    3\n",
       "18  black    spade    6"
      ]
     },
     "execution_count": 34,
     "metadata": {},
     "output_type": "execute_result"
    }
   ],
   "source": [
    "sample1 = cards.sample(5,replace = False, random_state = 7)\n",
    "sample1"
   ]
  },
  {
   "cell_type": "markdown",
   "metadata": {},
   "source": [
    "### 2c.  [2 pts] Suppose everyone in the class writes the same code above as you. Would you expect everyone in the class to get the same output as you? Why or why not?"
   ]
  },
  {
   "cell_type": "markdown",
   "metadata": {},
   "source": [
    "It would have the same result, because it fixed the random state that the calculation when generating the random values are the same"
   ]
  },
  {
   "cell_type": "markdown",
   "metadata": {},
   "source": [
    "### 2d.  [2 pts] Run this code below to create the series that results from using the .value_counts() function on the 'suits' column of our sample1 dataframe. Then in the code below it, extract just the list of indices for this series.\n",
    "\n",
    "(Hint: Check Unit 2 slides)."
   ]
  },
  {
   "cell_type": "code",
   "execution_count": 35,
   "metadata": {},
   "outputs": [
    {
     "data": {
      "text/plain": [
       "spade      3\n",
       "diamond    2\n",
       "Name: suit, dtype: int64"
      ]
     },
     "execution_count": 35,
     "metadata": {},
     "output_type": "execute_result"
    }
   ],
   "source": [
    "sample1['suit'].value_counts()"
   ]
  },
  {
   "cell_type": "code",
   "execution_count": 36,
   "metadata": {},
   "outputs": [
    {
     "data": {
      "text/plain": [
       "Index(['spade', 'diamond'], dtype='object')"
      ]
     },
     "execution_count": 36,
     "metadata": {},
     "output_type": "execute_result"
    }
   ],
   "source": [
    "sample1['suit'].value_counts().index"
   ]
  },
  {
   "cell_type": "markdown",
   "metadata": {},
   "source": [
    "### Tutorial:\n",
    "\n",
    "We can extract the **value** that corresponds to a named index from a series by using the **.loc()** function."
   ]
  },
  {
   "cell_type": "code",
   "execution_count": 37,
   "metadata": {},
   "outputs": [
    {
     "data": {
      "text/plain": [
       "3"
      ]
     },
     "execution_count": 37,
     "metadata": {},
     "output_type": "execute_result"
    }
   ],
   "source": [
    "sample1['suit'].value_counts().loc['spade']"
   ]
  },
  {
   "cell_type": "markdown",
   "metadata": {},
   "source": [
    "### 2e. [1 pt] Use the .loc() function to extract the number of diamonds in sample1."
   ]
  },
  {
   "cell_type": "code",
   "execution_count": 38,
   "metadata": {},
   "outputs": [
    {
     "data": {
      "text/plain": [
       "2"
      ]
     },
     "execution_count": 38,
     "metadata": {},
     "output_type": "execute_result"
    }
   ],
   "source": [
    "sample1['suit'].value_counts().loc['diamond']"
   ]
  },
  {
   "cell_type": "markdown",
   "metadata": {},
   "source": [
    "### Tutorial:\n",
    "\n",
    "We can test whether a certain object is **not in** a list by using the **if**, **else**, and **not in** operators as shown below. "
   ]
  },
  {
   "cell_type": "code",
   "execution_count": 39,
   "metadata": {},
   "outputs": [],
   "source": [
    "#Run this\n",
    "fun_list=['Nick', 'Kevin', 'Joe']"
   ]
  },
  {
   "cell_type": "code",
   "execution_count": 40,
   "metadata": {},
   "outputs": [
    {
     "name": "stdout",
     "output_type": "stream",
     "text": [
      "this person is in the list\n"
     ]
    }
   ],
   "source": [
    "#Run this\n",
    "if 'Nick' not in fun_list:\n",
    "    print('this person is not in the list')\n",
    "else:\n",
    "    print('this person is in the list')"
   ]
  },
  {
   "cell_type": "code",
   "execution_count": 41,
   "metadata": {},
   "outputs": [
    {
     "name": "stdout",
     "output_type": "stream",
     "text": [
      "this person is not in the list\n"
     ]
    }
   ],
   "source": [
    "#Run this\n",
    "if 'Harry' not in fun_list:\n",
    "    print('this person is not in the list')\n",
    "else:\n",
    "    print('this person is in the list')"
   ]
  },
  {
   "cell_type": "markdown",
   "metadata": {},
   "source": [
    "### 2f.  [2 pts] Write a code that tests whether 'diamond' is NOT IN the index of sample1['suit'].value_counts().\n",
    "\n",
    "*  **if** 'diamond' IS NOT in the index, then the **code** should ***print 'there are no diamonds in the hand'***.\n",
    "    \n",
    "*  **else** (aka: if 'diamond' IS in the index), then the **code** should ***print 'there are diamonds in the hand'***."
   ]
  },
  {
   "cell_type": "code",
   "execution_count": 42,
   "metadata": {},
   "outputs": [
    {
     "name": "stdout",
     "output_type": "stream",
     "text": [
      "there are diamonds in the hand\n"
     ]
    }
   ],
   "source": [
    "diamond_in = sample1['suit'].value_counts()\n",
    "if 'diamond' not in diamond_in.index:\n",
    "    print('there are no diamonds in the hand')\n",
    "else:\n",
    "    print ('there are diamonds in the hand')"
   ]
  },
  {
   "cell_type": "markdown",
   "metadata": {},
   "source": [
    "### 2g.  [2 pts] Write a code below that does the following.\n",
    "*First* it tests whether 'diamond' IS NOT in the index of the <u>sample1['suit'].value_counts()</u> series.\n",
    "\n",
    "*  **if** 'diamond' IS NOT in the index, then the **code** should <u>print 'there are no diamonds in the hand'</u>.\n",
    "    \n",
    "*  **else** (aka: if 'diamond' IS in the sample1['suit'].value_counts() variable), then the code should then test whether the **value** that corresponds to the 'diamond' index in <u>sample1['suit'].value_counts()</u> equal to 2.\n",
    "    - **if** the 'diamond' value does equal 2, then the **code** should <u>print \"there are two diamonds in the hand.\"</u>\n",
    "        \n",
    "    - **else** (aka if 'diamond' value does NOT equal 2), then the **code** should print <u>\"there are not two diamonds in the hand.\"</u>\n",
    "    \n",
    "\n",
    "#### Hint: Section 9 code in the Unit 5 notebook may be helpful here."
   ]
  },
  {
   "cell_type": "code",
   "execution_count": 43,
   "metadata": {},
   "outputs": [
    {
     "name": "stdout",
     "output_type": "stream",
     "text": [
      "there are two diamonds in the hand\n"
     ]
    }
   ],
   "source": [
    "diamond_in = sample1['suit'].value_counts()\n",
    "if 'diamond' not in diamond_in:\n",
    "    print('there are no diamonds in the hand')\n",
    "else:\n",
    "    if sample1['suit'].value_counts().loc['diamond'] == 2:\n",
    "        print('there are two diamonds in the hand')\n",
    "    else:\n",
    "        print('there are not two diamonds in the hand')\n",
    "    "
   ]
  },
  {
   "cell_type": "markdown",
   "metadata": {},
   "source": [
    "### 2h.  [2 pts] Write a FUNCTION below that does the following.\n",
    "\n",
    "Create a function that is meant to take a dataframe df as input. The input dataframe should represent a sample dataframe of 5 cards/rows that you have sampled from the cards dataframe.\n",
    "* The function should return **False** if the sample dataframe has no diamonds.\n",
    "* The function should return a **True** if the sample dataframe contains diamonds and there are exactly two of them.\n",
    "* The function should also return **False** if the sample dataframe contains diamonds, but there are not exactly two of them.\n",
    "\n",
    "#### Hint: Section 9 code in the Unit 5 notebook may be helpful here."
   ]
  },
  {
   "cell_type": "code",
   "execution_count": 44,
   "metadata": {},
   "outputs": [
    {
     "name": "stdout",
     "output_type": "stream",
     "text": [
      "spade      3\n",
      "diamond    2\n",
      "Name: suit, dtype: int64\n"
     ]
    }
   ],
   "source": [
    "print(sample1['suit'].value_counts())"
   ]
  },
  {
   "cell_type": "code",
   "execution_count": 45,
   "metadata": {},
   "outputs": [],
   "source": [
    "def function (df, var = 'suit'):\n",
    "    if 'diamond' not in df['suit'].value_counts():\n",
    "        return False\n",
    "    else:\n",
    "        if df['suit'].value_counts().loc['diamond'] == 2:\n",
    "            return True\n",
    "        else:\n",
    "            return False\n"
   ]
  },
  {
   "cell_type": "markdown",
   "metadata": {},
   "source": [
    "### 2i.  [2 pts] Test whether your sample1 dataframe contains exactly two diamonds."
   ]
  },
  {
   "cell_type": "code",
   "execution_count": 46,
   "metadata": {},
   "outputs": [
    {
     "data": {
      "text/plain": [
       "True"
      ]
     },
     "execution_count": 46,
     "metadata": {},
     "output_type": "execute_result"
    }
   ],
   "source": [
    "function(sample1)"
   ]
  },
  {
   "cell_type": "markdown",
   "metadata": {},
   "source": [
    "### 2j.  [2 pts] Use this function to do the following.\n",
    "1. Simulate drawing 10000 hands (remember hand = 5 cards) from the 52 card deck. Each trial is randomly sampled without replacements.\n",
    "2. Test whether the trial has exactly two diamonds.\n",
    "3. Calculates the proportion of the 10000 hands that have exactly two diamonds.\n",
    "\n",
    "**Hint: DON'T use the random_state parameter in this code.**"
   ]
  },
  {
   "cell_type": "code",
   "execution_count": 47,
   "metadata": {},
   "outputs": [],
   "source": [
    "final = 0\n",
    "loop = 10000\n",
    "for i in range(loop):\n",
    "    sampleX = cards.sample(5)\n",
    "    final += function(sampleX)\n",
    "    "
   ]
  },
  {
   "cell_type": "code",
   "execution_count": 48,
   "metadata": {},
   "outputs": [
    {
     "name": "stdout",
     "output_type": "stream",
     "text": [
      "Probability estimate based on  10000 iterations: 0.2678\n"
     ]
    }
   ],
   "source": [
    "prob1 = (final/loop)\n",
    "print('Probability estimate based on ', loop, 'iterations:', prob1)"
   ]
  },
  {
   "cell_type": "markdown",
   "metadata": {},
   "source": [
    "## Question 3:  [1 pts] Compare your approximated probability of drawing a hand with exactly two diamonds (from question 2) and the probability that you calculated (in question 1). What is the difference?"
   ]
  },
  {
   "cell_type": "code",
   "execution_count": 49,
   "metadata": {},
   "outputs": [
    {
     "name": "stdout",
     "output_type": "stream",
     "text": [
      "The value we calculated is 0.2742797118847539 and the for loop value is 0.2678 the difference between those two is 0.006479711884753936\n",
      "the difference compare to the calculated value is 0.023624466571835118 which is a relatively small number\n"
     ]
    }
   ],
   "source": [
    "diff = (prob - prob1)\n",
    "percent = diff/prob\n",
    "print('The value we calculated is',prob, 'and the for loop value is', prob1, 'the difference between those two is',diff)\n",
    "print('the difference compare to the calculated value is', percent, 'which is a relatively small number')"
   ]
  },
  {
   "cell_type": "markdown",
   "metadata": {},
   "source": [
    "## Question 4: Sampling Cards with Replacement"
   ]
  },
  {
   "cell_type": "markdown",
   "metadata": {},
   "source": [
    "### 4a:  [1 pts] Randomly sample 3 cards from the cards dataframe with replacement."
   ]
  },
  {
   "cell_type": "code",
   "execution_count": 175,
   "metadata": {},
   "outputs": [
    {
     "data": {
      "text/html": [
       "<div>\n",
       "<style scoped>\n",
       "    .dataframe tbody tr th:only-of-type {\n",
       "        vertical-align: middle;\n",
       "    }\n",
       "\n",
       "    .dataframe tbody tr th {\n",
       "        vertical-align: top;\n",
       "    }\n",
       "\n",
       "    .dataframe thead th {\n",
       "        text-align: right;\n",
       "    }\n",
       "</style>\n",
       "<table border=\"1\" class=\"dataframe\">\n",
       "  <thead>\n",
       "    <tr style=\"text-align: right;\">\n",
       "      <th></th>\n",
       "      <th>color</th>\n",
       "      <th>suit</th>\n",
       "      <th>face</th>\n",
       "    </tr>\n",
       "  </thead>\n",
       "  <tbody>\n",
       "    <tr>\n",
       "      <td>8</td>\n",
       "      <td>black</td>\n",
       "      <td>club</td>\n",
       "      <td>9</td>\n",
       "    </tr>\n",
       "    <tr>\n",
       "      <td>10</td>\n",
       "      <td>black</td>\n",
       "      <td>club</td>\n",
       "      <td>J</td>\n",
       "    </tr>\n",
       "    <tr>\n",
       "      <td>44</td>\n",
       "      <td>red</td>\n",
       "      <td>heart</td>\n",
       "      <td>6</td>\n",
       "    </tr>\n",
       "  </tbody>\n",
       "</table>\n",
       "</div>"
      ],
      "text/plain": [
       "    color   suit face\n",
       "8   black   club    9\n",
       "10  black   club    J\n",
       "44    red  heart    6"
      ]
     },
     "execution_count": 175,
     "metadata": {},
     "output_type": "execute_result"
    }
   ],
   "source": [
    "cards.sample(3, replace = True)"
   ]
  },
  {
   "cell_type": "markdown",
   "metadata": {},
   "source": [
    "### 4b.  [2 pts] Assume that we randomly sampled 3 cards from the deck with replacement. How many three card permutations exist for this experiment?\n",
    "\n",
    "#### Hint: \"Permutation\" imples we care about the order in which the cards were drawn."
   ]
  },
  {
   "cell_type": "code",
   "execution_count": 10,
   "metadata": {},
   "outputs": [
    {
     "name": "stdout",
     "output_type": "stream",
     "text": [
      "140608 three card permutations exist\n"
     ]
    }
   ],
   "source": [
    "perm = 52*52*52\n",
    "print(perm,'three card permutations exist')"
   ]
  },
  {
   "cell_type": "code",
   "execution_count": null,
   "metadata": {},
   "outputs": [],
   "source": []
  }
 ],
 "metadata": {
  "kernelspec": {
   "display_name": "Python 3",
   "language": "python",
   "name": "python3"
  },
  "language_info": {
   "codemirror_mode": {
    "name": "ipython",
    "version": 3
   },
   "file_extension": ".py",
   "mimetype": "text/x-python",
   "name": "python",
   "nbconvert_exporter": "python",
   "pygments_lexer": "ipython3",
   "version": "3.7.4"
  }
 },
 "nbformat": 4,
 "nbformat_minor": 2
}
