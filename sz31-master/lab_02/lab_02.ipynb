{
 "cells": [
  {
   "cell_type": "markdown",
   "metadata": {},
   "source": [
    "# STAT 207 Lab 2: Data Frames and Statistics - [30 total points]\n",
    "\n",
    "Due: Wednesday, February 10, 11:59pm CST"
   ]
  },
  {
   "cell_type": "markdown",
   "metadata": {},
   "source": [
    "### Shuning Zhang Net ID: sz31"
   ]
  },
  {
   "cell_type": "markdown",
   "metadata": {},
   "source": [
    "\n",
    "\n",
    "### <u>Case Study</u>: UK Smokers Dataset\n",
    "\n",
    "Let's explore the same UK Smokers dataset from lab_01 to see if we can determine if there is an association between the **age of a smoker (at least 30 vs. under 30)**, **sex**, and **how many cigarettes they smoke on the weekends.**\n",
    "\n",
    "The data file \"smoking.csv\" is included in the release. It contains several variables with information about smokers that live in the U.K. We will be exploring the following variables in this lab:\n",
    "* **sex**: 'Male', 'Female'\n",
    "* **age**\n",
    "* **amt_weekends**: (which represents the number of cigarettes the smoker smokes on the weekend."
   ]
  },
  {
   "cell_type": "markdown",
   "metadata": {},
   "source": [
    "### <u>Instructions for Completing this Lab</u>\n",
    "Answer questions 1-16 below.\n",
    "\n",
    "You may add as many cells as you need in order to do the excercises. To add cells use the \"Insert\" tab from the menu bar above and select \"insert cell above\" or \"insert cell below\". \n",
    "\n",
    "**The most relevant lectures notes for this lab are the Unit 3 and Unit 4 notes.**\n",
    "\n",
    "Please use Markdown cells above or below your code cells to explain your results. Make sure graders know that you understand what your code is doing.\n",
    "\n"
   ]
  },
  {
   "cell_type": "markdown",
   "metadata": {},
   "source": [
    "### 1. [2 pts] Imports\n",
    "\n",
    "Import all packages that you need to use in this analysis below. You may need to update this code and rerun it as you go."
   ]
  },
  {
   "cell_type": "code",
   "execution_count": 3,
   "metadata": {},
   "outputs": [],
   "source": [
    "import pandas as pd                    # imports pandas and calls the imported version 'pd'\n",
    "import matplotlib.pyplot as plt        # imports the package and calls it 'plt'\n",
    "import seaborn as sns                  # imports the seaborn package with the imported name 'sns'\n",
    "sns.set()                              # sets the default plotting style"
   ]
  },
  {
   "cell_type": "markdown",
   "metadata": {},
   "source": [
    "### [2 pts] Read the 'smoking.csv' file into a dataframe called df.\n",
    "\n"
   ]
  },
  {
   "cell_type": "code",
   "execution_count": 4,
   "metadata": {},
   "outputs": [],
   "source": [
    "df = pd.read_csv('smoking.csv')"
   ]
  },
  {
   "cell_type": "markdown",
   "metadata": {},
   "source": [
    "### Important Tutorial for a Later Question in this Assignment: \n",
    "\n",
    "Remember that the **.shape** attribute reveals the number of rows and the number of columns in a dataframe *(displayed in that order)*.\n",
    "\n",
    "If we'd like to extract *just one of these outputs* of the **.shape** attribute, we can **index** this output using:\n",
    "* **df.shape[0]**: to get just the number of rows (remember index 0 = first entry in a list in Python)\n",
    "* **df.shape[1]**: to get just the number of columns (remember index 1 = second entry in the list in Pythonn)\n",
    "\n",
    "Run this code below to see an example of this."
   ]
  },
  {
   "cell_type": "code",
   "execution_count": 5,
   "metadata": {},
   "outputs": [
    {
     "name": "stdout",
     "output_type": "stream",
     "text": [
      "Shape of the dataframe\n",
      "(421, 11)\n",
      "Number of rows in the dataframe\n",
      "421\n",
      "Number of columns in the dataframe\n",
      "11\n"
     ]
    }
   ],
   "source": [
    "print('Shape of the dataframe')\n",
    "print(df.shape)\n",
    "\n",
    "print('Number of rows in the dataframe')\n",
    "print(df.shape[0])\n",
    "\n",
    "print('Number of columns in the dataframe')\n",
    "print(df.shape[1])"
   ]
  },
  {
   "cell_type": "markdown",
   "metadata": {},
   "source": [
    "### 3. [2 pts] Display the first 12 rows of the data."
   ]
  },
  {
   "cell_type": "code",
   "execution_count": 6,
   "metadata": {},
   "outputs": [
    {
     "data": {
      "text/html": [
       "<div>\n",
       "<style scoped>\n",
       "    .dataframe tbody tr th:only-of-type {\n",
       "        vertical-align: middle;\n",
       "    }\n",
       "\n",
       "    .dataframe tbody tr th {\n",
       "        vertical-align: top;\n",
       "    }\n",
       "\n",
       "    .dataframe thead th {\n",
       "        text-align: right;\n",
       "    }\n",
       "</style>\n",
       "<table border=\"1\" class=\"dataframe\">\n",
       "  <thead>\n",
       "    <tr style=\"text-align: right;\">\n",
       "      <th></th>\n",
       "      <th>sex</th>\n",
       "      <th>age</th>\n",
       "      <th>marital_status</th>\n",
       "      <th>highest_qualification</th>\n",
       "      <th>nationality</th>\n",
       "      <th>gross_income</th>\n",
       "      <th>region</th>\n",
       "      <th>smoke</th>\n",
       "      <th>amt_weekends</th>\n",
       "      <th>amt_weekdays</th>\n",
       "      <th>type</th>\n",
       "    </tr>\n",
       "  </thead>\n",
       "  <tbody>\n",
       "    <tr>\n",
       "      <td>0</td>\n",
       "      <td>Female</td>\n",
       "      <td>42</td>\n",
       "      <td>Single</td>\n",
       "      <td>No Qualification</td>\n",
       "      <td>British</td>\n",
       "      <td>Under 2,600</td>\n",
       "      <td>The North</td>\n",
       "      <td>Yes</td>\n",
       "      <td>12</td>\n",
       "      <td>12</td>\n",
       "      <td>Packets</td>\n",
       "    </tr>\n",
       "    <tr>\n",
       "      <td>1</td>\n",
       "      <td>Male</td>\n",
       "      <td>53</td>\n",
       "      <td>Married</td>\n",
       "      <td>Degree</td>\n",
       "      <td>British</td>\n",
       "      <td>Above 36,400</td>\n",
       "      <td>The North</td>\n",
       "      <td>Yes</td>\n",
       "      <td>6</td>\n",
       "      <td>6</td>\n",
       "      <td>Packets</td>\n",
       "    </tr>\n",
       "    <tr>\n",
       "      <td>2</td>\n",
       "      <td>Male</td>\n",
       "      <td>40</td>\n",
       "      <td>Single</td>\n",
       "      <td>GCSE/CSE</td>\n",
       "      <td>English</td>\n",
       "      <td>2,600 to 5,200</td>\n",
       "      <td>The North</td>\n",
       "      <td>Yes</td>\n",
       "      <td>8</td>\n",
       "      <td>8</td>\n",
       "      <td>Hand-Rolled</td>\n",
       "    </tr>\n",
       "    <tr>\n",
       "      <td>3</td>\n",
       "      <td>Female</td>\n",
       "      <td>41</td>\n",
       "      <td>Married</td>\n",
       "      <td>No Qualification</td>\n",
       "      <td>English</td>\n",
       "      <td>5,200 to 10,400</td>\n",
       "      <td>The North</td>\n",
       "      <td>Yes</td>\n",
       "      <td>15</td>\n",
       "      <td>12</td>\n",
       "      <td>Packets</td>\n",
       "    </tr>\n",
       "    <tr>\n",
       "      <td>4</td>\n",
       "      <td>Female</td>\n",
       "      <td>34</td>\n",
       "      <td>Married</td>\n",
       "      <td>GCSE/CSE</td>\n",
       "      <td>British</td>\n",
       "      <td>2,600 to 5,200</td>\n",
       "      <td>The North</td>\n",
       "      <td>Yes</td>\n",
       "      <td>6</td>\n",
       "      <td>12</td>\n",
       "      <td>Packets</td>\n",
       "    </tr>\n",
       "    <tr>\n",
       "      <td>5</td>\n",
       "      <td>Female</td>\n",
       "      <td>36</td>\n",
       "      <td>Married</td>\n",
       "      <td>GCSE/O Level</td>\n",
       "      <td>English</td>\n",
       "      <td>5,200 to 10,400</td>\n",
       "      <td>The North</td>\n",
       "      <td>Yes</td>\n",
       "      <td>5</td>\n",
       "      <td>2</td>\n",
       "      <td>Packets</td>\n",
       "    </tr>\n",
       "    <tr>\n",
       "      <td>6</td>\n",
       "      <td>Female</td>\n",
       "      <td>56</td>\n",
       "      <td>Married</td>\n",
       "      <td>No Qualification</td>\n",
       "      <td>English</td>\n",
       "      <td>2,600 to 5,200</td>\n",
       "      <td>The North</td>\n",
       "      <td>Yes</td>\n",
       "      <td>20</td>\n",
       "      <td>20</td>\n",
       "      <td>Packets</td>\n",
       "    </tr>\n",
       "    <tr>\n",
       "      <td>7</td>\n",
       "      <td>Female</td>\n",
       "      <td>58</td>\n",
       "      <td>Divorced</td>\n",
       "      <td>No Qualification</td>\n",
       "      <td>English</td>\n",
       "      <td>5,200 to 10,400</td>\n",
       "      <td>The North</td>\n",
       "      <td>Yes</td>\n",
       "      <td>25</td>\n",
       "      <td>20</td>\n",
       "      <td>Packets</td>\n",
       "    </tr>\n",
       "    <tr>\n",
       "      <td>8</td>\n",
       "      <td>Female</td>\n",
       "      <td>42</td>\n",
       "      <td>Married</td>\n",
       "      <td>GCSE/O Level</td>\n",
       "      <td>British</td>\n",
       "      <td>Refused</td>\n",
       "      <td>The North</td>\n",
       "      <td>Yes</td>\n",
       "      <td>40</td>\n",
       "      <td>15</td>\n",
       "      <td>Packets</td>\n",
       "    </tr>\n",
       "    <tr>\n",
       "      <td>9</td>\n",
       "      <td>Female</td>\n",
       "      <td>31</td>\n",
       "      <td>Married</td>\n",
       "      <td>GCSE/CSE</td>\n",
       "      <td>English</td>\n",
       "      <td>Under 2,600</td>\n",
       "      <td>The North</td>\n",
       "      <td>Yes</td>\n",
       "      <td>15</td>\n",
       "      <td>15</td>\n",
       "      <td>Both/Mainly Packets</td>\n",
       "    </tr>\n",
       "    <tr>\n",
       "      <td>10</td>\n",
       "      <td>Female</td>\n",
       "      <td>78</td>\n",
       "      <td>Widowed</td>\n",
       "      <td>No Qualification</td>\n",
       "      <td>English</td>\n",
       "      <td>Under 2,600</td>\n",
       "      <td>The North</td>\n",
       "      <td>Yes</td>\n",
       "      <td>20</td>\n",
       "      <td>20</td>\n",
       "      <td>Packets</td>\n",
       "    </tr>\n",
       "    <tr>\n",
       "      <td>11</td>\n",
       "      <td>Female</td>\n",
       "      <td>76</td>\n",
       "      <td>Widowed</td>\n",
       "      <td>No Qualification</td>\n",
       "      <td>English</td>\n",
       "      <td>2,600 to 5,200</td>\n",
       "      <td>The North</td>\n",
       "      <td>Yes</td>\n",
       "      <td>6</td>\n",
       "      <td>6</td>\n",
       "      <td>Packets</td>\n",
       "    </tr>\n",
       "  </tbody>\n",
       "</table>\n",
       "</div>"
      ],
      "text/plain": [
       "       sex  age marital_status highest_qualification nationality  \\\n",
       "0   Female   42         Single      No Qualification     British   \n",
       "1     Male   53        Married                Degree     British   \n",
       "2     Male   40         Single              GCSE/CSE     English   \n",
       "3   Female   41        Married      No Qualification     English   \n",
       "4   Female   34        Married              GCSE/CSE     British   \n",
       "5   Female   36        Married          GCSE/O Level     English   \n",
       "6   Female   56        Married      No Qualification     English   \n",
       "7   Female   58       Divorced      No Qualification     English   \n",
       "8   Female   42        Married          GCSE/O Level     British   \n",
       "9   Female   31        Married              GCSE/CSE     English   \n",
       "10  Female   78        Widowed      No Qualification     English   \n",
       "11  Female   76        Widowed      No Qualification     English   \n",
       "\n",
       "       gross_income     region smoke  amt_weekends  amt_weekdays  \\\n",
       "0       Under 2,600  The North   Yes            12            12   \n",
       "1      Above 36,400  The North   Yes             6             6   \n",
       "2    2,600 to 5,200  The North   Yes             8             8   \n",
       "3   5,200 to 10,400  The North   Yes            15            12   \n",
       "4    2,600 to 5,200  The North   Yes             6            12   \n",
       "5   5,200 to 10,400  The North   Yes             5             2   \n",
       "6    2,600 to 5,200  The North   Yes            20            20   \n",
       "7   5,200 to 10,400  The North   Yes            25            20   \n",
       "8           Refused  The North   Yes            40            15   \n",
       "9       Under 2,600  The North   Yes            15            15   \n",
       "10      Under 2,600  The North   Yes            20            20   \n",
       "11   2,600 to 5,200  The North   Yes             6             6   \n",
       "\n",
       "                   type  \n",
       "0               Packets  \n",
       "1               Packets  \n",
       "2           Hand-Rolled  \n",
       "3               Packets  \n",
       "4               Packets  \n",
       "5               Packets  \n",
       "6               Packets  \n",
       "7               Packets  \n",
       "8               Packets  \n",
       "9   Both/Mainly Packets  \n",
       "10              Packets  \n",
       "11              Packets  "
      ]
     },
     "execution_count": 6,
     "metadata": {},
     "output_type": "execute_result"
    }
   ],
   "source": [
    "df.iloc[:12,:]     #first 12 row form row0-row11"
   ]
  },
  {
   "cell_type": "markdown",
   "metadata": {},
   "source": [
    "### 4. [2 pts] Display just the rows of your data frame with index values 3, 4 and 5."
   ]
  },
  {
   "cell_type": "code",
   "execution_count": 7,
   "metadata": {},
   "outputs": [
    {
     "data": {
      "text/html": [
       "<div>\n",
       "<style scoped>\n",
       "    .dataframe tbody tr th:only-of-type {\n",
       "        vertical-align: middle;\n",
       "    }\n",
       "\n",
       "    .dataframe tbody tr th {\n",
       "        vertical-align: top;\n",
       "    }\n",
       "\n",
       "    .dataframe thead th {\n",
       "        text-align: right;\n",
       "    }\n",
       "</style>\n",
       "<table border=\"1\" class=\"dataframe\">\n",
       "  <thead>\n",
       "    <tr style=\"text-align: right;\">\n",
       "      <th></th>\n",
       "      <th>sex</th>\n",
       "      <th>age</th>\n",
       "      <th>marital_status</th>\n",
       "      <th>highest_qualification</th>\n",
       "      <th>nationality</th>\n",
       "      <th>gross_income</th>\n",
       "      <th>region</th>\n",
       "      <th>smoke</th>\n",
       "      <th>amt_weekends</th>\n",
       "      <th>amt_weekdays</th>\n",
       "      <th>type</th>\n",
       "    </tr>\n",
       "  </thead>\n",
       "  <tbody>\n",
       "    <tr>\n",
       "      <td>3</td>\n",
       "      <td>Female</td>\n",
       "      <td>41</td>\n",
       "      <td>Married</td>\n",
       "      <td>No Qualification</td>\n",
       "      <td>English</td>\n",
       "      <td>5,200 to 10,400</td>\n",
       "      <td>The North</td>\n",
       "      <td>Yes</td>\n",
       "      <td>15</td>\n",
       "      <td>12</td>\n",
       "      <td>Packets</td>\n",
       "    </tr>\n",
       "    <tr>\n",
       "      <td>4</td>\n",
       "      <td>Female</td>\n",
       "      <td>34</td>\n",
       "      <td>Married</td>\n",
       "      <td>GCSE/CSE</td>\n",
       "      <td>British</td>\n",
       "      <td>2,600 to 5,200</td>\n",
       "      <td>The North</td>\n",
       "      <td>Yes</td>\n",
       "      <td>6</td>\n",
       "      <td>12</td>\n",
       "      <td>Packets</td>\n",
       "    </tr>\n",
       "    <tr>\n",
       "      <td>5</td>\n",
       "      <td>Female</td>\n",
       "      <td>36</td>\n",
       "      <td>Married</td>\n",
       "      <td>GCSE/O Level</td>\n",
       "      <td>English</td>\n",
       "      <td>5,200 to 10,400</td>\n",
       "      <td>The North</td>\n",
       "      <td>Yes</td>\n",
       "      <td>5</td>\n",
       "      <td>2</td>\n",
       "      <td>Packets</td>\n",
       "    </tr>\n",
       "  </tbody>\n",
       "</table>\n",
       "</div>"
      ],
      "text/plain": [
       "      sex  age marital_status highest_qualification nationality  \\\n",
       "3  Female   41        Married      No Qualification     English   \n",
       "4  Female   34        Married              GCSE/CSE     British   \n",
       "5  Female   36        Married          GCSE/O Level     English   \n",
       "\n",
       "      gross_income     region smoke  amt_weekends  amt_weekdays     type  \n",
       "3  5,200 to 10,400  The North   Yes            15            12  Packets  \n",
       "4   2,600 to 5,200  The North   Yes             6            12  Packets  \n",
       "5  5,200 to 10,400  The North   Yes             5             2  Packets  "
      ]
     },
     "execution_count": 7,
     "metadata": {},
     "output_type": "execute_result"
    }
   ],
   "source": [
    "df.iloc[[3,4,5],:]     #only display those three rows"
   ]
  },
  {
   "cell_type": "markdown",
   "metadata": {},
   "source": [
    "### 5. [1 pts] Sort df by age (ascending order) and display the output."
   ]
  },
  {
   "cell_type": "code",
   "execution_count": 8,
   "metadata": {},
   "outputs": [
    {
     "data": {
      "text/html": [
       "<div>\n",
       "<style scoped>\n",
       "    .dataframe tbody tr th:only-of-type {\n",
       "        vertical-align: middle;\n",
       "    }\n",
       "\n",
       "    .dataframe tbody tr th {\n",
       "        vertical-align: top;\n",
       "    }\n",
       "\n",
       "    .dataframe thead th {\n",
       "        text-align: right;\n",
       "    }\n",
       "</style>\n",
       "<table border=\"1\" class=\"dataframe\">\n",
       "  <thead>\n",
       "    <tr style=\"text-align: right;\">\n",
       "      <th></th>\n",
       "      <th>sex</th>\n",
       "      <th>age</th>\n",
       "      <th>marital_status</th>\n",
       "      <th>highest_qualification</th>\n",
       "      <th>nationality</th>\n",
       "      <th>gross_income</th>\n",
       "      <th>region</th>\n",
       "      <th>smoke</th>\n",
       "      <th>amt_weekends</th>\n",
       "      <th>amt_weekdays</th>\n",
       "      <th>type</th>\n",
       "    </tr>\n",
       "  </thead>\n",
       "  <tbody>\n",
       "    <tr>\n",
       "      <td>110</td>\n",
       "      <td>Female</td>\n",
       "      <td>16</td>\n",
       "      <td>Single</td>\n",
       "      <td>GCSE/CSE</td>\n",
       "      <td>British</td>\n",
       "      <td>Under 2,600</td>\n",
       "      <td>Midlands &amp; East Anglia</td>\n",
       "      <td>Yes</td>\n",
       "      <td>2</td>\n",
       "      <td>2</td>\n",
       "      <td>Packets</td>\n",
       "    </tr>\n",
       "    <tr>\n",
       "      <td>174</td>\n",
       "      <td>Male</td>\n",
       "      <td>16</td>\n",
       "      <td>Single</td>\n",
       "      <td>No Qualification</td>\n",
       "      <td>English</td>\n",
       "      <td>Under 2,600</td>\n",
       "      <td>Midlands &amp; East Anglia</td>\n",
       "      <td>Yes</td>\n",
       "      <td>25</td>\n",
       "      <td>20</td>\n",
       "      <td>Hand-Rolled</td>\n",
       "    </tr>\n",
       "    <tr>\n",
       "      <td>347</td>\n",
       "      <td>Male</td>\n",
       "      <td>16</td>\n",
       "      <td>Single</td>\n",
       "      <td>No Qualification</td>\n",
       "      <td>English</td>\n",
       "      <td>Under 2,600</td>\n",
       "      <td>South West</td>\n",
       "      <td>Yes</td>\n",
       "      <td>6</td>\n",
       "      <td>6</td>\n",
       "      <td>Both/Mainly Packets</td>\n",
       "    </tr>\n",
       "    <tr>\n",
       "      <td>56</td>\n",
       "      <td>Female</td>\n",
       "      <td>16</td>\n",
       "      <td>Single</td>\n",
       "      <td>GCSE/O Level</td>\n",
       "      <td>British</td>\n",
       "      <td>5,200 to 10,400</td>\n",
       "      <td>The North</td>\n",
       "      <td>Yes</td>\n",
       "      <td>12</td>\n",
       "      <td>12</td>\n",
       "      <td>Packets</td>\n",
       "    </tr>\n",
       "    <tr>\n",
       "      <td>404</td>\n",
       "      <td>Female</td>\n",
       "      <td>17</td>\n",
       "      <td>Single</td>\n",
       "      <td>GCSE/CSE</td>\n",
       "      <td>Scottish</td>\n",
       "      <td>5,200 to 10,400</td>\n",
       "      <td>Scotland</td>\n",
       "      <td>Yes</td>\n",
       "      <td>20</td>\n",
       "      <td>15</td>\n",
       "      <td>Packets</td>\n",
       "    </tr>\n",
       "    <tr>\n",
       "      <td>...</td>\n",
       "      <td>...</td>\n",
       "      <td>...</td>\n",
       "      <td>...</td>\n",
       "      <td>...</td>\n",
       "      <td>...</td>\n",
       "      <td>...</td>\n",
       "      <td>...</td>\n",
       "      <td>...</td>\n",
       "      <td>...</td>\n",
       "      <td>...</td>\n",
       "      <td>...</td>\n",
       "    </tr>\n",
       "    <tr>\n",
       "      <td>264</td>\n",
       "      <td>Female</td>\n",
       "      <td>79</td>\n",
       "      <td>Widowed</td>\n",
       "      <td>No Qualification</td>\n",
       "      <td>English</td>\n",
       "      <td>5,200 to 10,400</td>\n",
       "      <td>South East</td>\n",
       "      <td>Yes</td>\n",
       "      <td>5</td>\n",
       "      <td>5</td>\n",
       "      <td>Packets</td>\n",
       "    </tr>\n",
       "    <tr>\n",
       "      <td>228</td>\n",
       "      <td>Male</td>\n",
       "      <td>82</td>\n",
       "      <td>Married</td>\n",
       "      <td>Other/Sub Degree</td>\n",
       "      <td>Other</td>\n",
       "      <td>2,600 to 5,200</td>\n",
       "      <td>London</td>\n",
       "      <td>Yes</td>\n",
       "      <td>3</td>\n",
       "      <td>3</td>\n",
       "      <td>Packets</td>\n",
       "    </tr>\n",
       "    <tr>\n",
       "      <td>153</td>\n",
       "      <td>Female</td>\n",
       "      <td>85</td>\n",
       "      <td>Widowed</td>\n",
       "      <td>Other/Sub Degree</td>\n",
       "      <td>English</td>\n",
       "      <td>5,200 to 10,400</td>\n",
       "      <td>Midlands &amp; East Anglia</td>\n",
       "      <td>Yes</td>\n",
       "      <td>6</td>\n",
       "      <td>6</td>\n",
       "      <td>Packets</td>\n",
       "    </tr>\n",
       "    <tr>\n",
       "      <td>222</td>\n",
       "      <td>Female</td>\n",
       "      <td>86</td>\n",
       "      <td>Widowed</td>\n",
       "      <td>GCSE/O Level</td>\n",
       "      <td>Irish</td>\n",
       "      <td>10,400 to 15,600</td>\n",
       "      <td>London</td>\n",
       "      <td>Yes</td>\n",
       "      <td>7</td>\n",
       "      <td>7</td>\n",
       "      <td>Packets</td>\n",
       "    </tr>\n",
       "    <tr>\n",
       "      <td>217</td>\n",
       "      <td>Female</td>\n",
       "      <td>93</td>\n",
       "      <td>Widowed</td>\n",
       "      <td>Other/Sub Degree</td>\n",
       "      <td>English</td>\n",
       "      <td>5,200 to 10,400</td>\n",
       "      <td>London</td>\n",
       "      <td>Yes</td>\n",
       "      <td>0</td>\n",
       "      <td>3</td>\n",
       "      <td>Packets</td>\n",
       "    </tr>\n",
       "  </tbody>\n",
       "</table>\n",
       "<p>421 rows × 11 columns</p>\n",
       "</div>"
      ],
      "text/plain": [
       "        sex  age marital_status highest_qualification nationality  \\\n",
       "110  Female   16         Single              GCSE/CSE     British   \n",
       "174    Male   16         Single      No Qualification     English   \n",
       "347    Male   16         Single      No Qualification     English   \n",
       "56   Female   16         Single          GCSE/O Level     British   \n",
       "404  Female   17         Single              GCSE/CSE    Scottish   \n",
       "..      ...  ...            ...                   ...         ...   \n",
       "264  Female   79        Widowed      No Qualification     English   \n",
       "228    Male   82        Married      Other/Sub Degree       Other   \n",
       "153  Female   85        Widowed      Other/Sub Degree     English   \n",
       "222  Female   86        Widowed          GCSE/O Level       Irish   \n",
       "217  Female   93        Widowed      Other/Sub Degree     English   \n",
       "\n",
       "         gross_income                  region smoke  amt_weekends  \\\n",
       "110       Under 2,600  Midlands & East Anglia   Yes             2   \n",
       "174       Under 2,600  Midlands & East Anglia   Yes            25   \n",
       "347       Under 2,600              South West   Yes             6   \n",
       "56    5,200 to 10,400               The North   Yes            12   \n",
       "404   5,200 to 10,400                Scotland   Yes            20   \n",
       "..                ...                     ...   ...           ...   \n",
       "264   5,200 to 10,400              South East   Yes             5   \n",
       "228    2,600 to 5,200                  London   Yes             3   \n",
       "153   5,200 to 10,400  Midlands & East Anglia   Yes             6   \n",
       "222  10,400 to 15,600                  London   Yes             7   \n",
       "217   5,200 to 10,400                  London   Yes             0   \n",
       "\n",
       "     amt_weekdays                 type  \n",
       "110             2              Packets  \n",
       "174            20          Hand-Rolled  \n",
       "347             6  Both/Mainly Packets  \n",
       "56             12              Packets  \n",
       "404            15              Packets  \n",
       "..            ...                  ...  \n",
       "264             5              Packets  \n",
       "228             3              Packets  \n",
       "153             6              Packets  \n",
       "222             7              Packets  \n",
       "217             3              Packets  \n",
       "\n",
       "[421 rows x 11 columns]"
      ]
     },
     "execution_count": 8,
     "metadata": {},
     "output_type": "execute_result"
    }
   ],
   "source": [
    "df=df.sort_values(by = 'age', ascending = True)\n",
    "df"
   ]
  },
  {
   "cell_type": "markdown",
   "metadata": {},
   "source": [
    "### 6. [2 pts] Create a new dataframe (call it df_30) that is only comprised of people that are at least 30 years old."
   ]
  },
  {
   "cell_type": "code",
   "execution_count": 9,
   "metadata": {},
   "outputs": [],
   "source": [
    "df_30 = df[df['age'] >= 30]       #filter out the ages that are below 30\n",
    "#df_30.sort_values(by = 'age')     # put it in ascending order"
   ]
  },
  {
   "cell_type": "markdown",
   "metadata": {},
   "source": [
    "### 7. [1 pts] Display the first 5 rows of this new dataframe df_30."
   ]
  },
  {
   "cell_type": "code",
   "execution_count": 10,
   "metadata": {},
   "outputs": [
    {
     "data": {
      "text/html": [
       "<div>\n",
       "<style scoped>\n",
       "    .dataframe tbody tr th:only-of-type {\n",
       "        vertical-align: middle;\n",
       "    }\n",
       "\n",
       "    .dataframe tbody tr th {\n",
       "        vertical-align: top;\n",
       "    }\n",
       "\n",
       "    .dataframe thead th {\n",
       "        text-align: right;\n",
       "    }\n",
       "</style>\n",
       "<table border=\"1\" class=\"dataframe\">\n",
       "  <thead>\n",
       "    <tr style=\"text-align: right;\">\n",
       "      <th></th>\n",
       "      <th>sex</th>\n",
       "      <th>age</th>\n",
       "      <th>marital_status</th>\n",
       "      <th>highest_qualification</th>\n",
       "      <th>nationality</th>\n",
       "      <th>gross_income</th>\n",
       "      <th>region</th>\n",
       "      <th>smoke</th>\n",
       "      <th>amt_weekends</th>\n",
       "      <th>amt_weekdays</th>\n",
       "      <th>type</th>\n",
       "    </tr>\n",
       "  </thead>\n",
       "  <tbody>\n",
       "    <tr>\n",
       "      <td>321</td>\n",
       "      <td>Male</td>\n",
       "      <td>30</td>\n",
       "      <td>Single</td>\n",
       "      <td>Higher/Sub Degree</td>\n",
       "      <td>English</td>\n",
       "      <td>20,800 to 28,600</td>\n",
       "      <td>South West</td>\n",
       "      <td>Yes</td>\n",
       "      <td>4</td>\n",
       "      <td>1</td>\n",
       "      <td>Packets</td>\n",
       "    </tr>\n",
       "    <tr>\n",
       "      <td>163</td>\n",
       "      <td>Female</td>\n",
       "      <td>30</td>\n",
       "      <td>Single</td>\n",
       "      <td>GCSE/O Level</td>\n",
       "      <td>British</td>\n",
       "      <td>10,400 to 15,600</td>\n",
       "      <td>Midlands &amp; East Anglia</td>\n",
       "      <td>Yes</td>\n",
       "      <td>5</td>\n",
       "      <td>10</td>\n",
       "      <td>Hand-Rolled</td>\n",
       "    </tr>\n",
       "    <tr>\n",
       "      <td>384</td>\n",
       "      <td>Male</td>\n",
       "      <td>30</td>\n",
       "      <td>Married</td>\n",
       "      <td>ONC/BTEC</td>\n",
       "      <td>Scottish</td>\n",
       "      <td>15,600 to 20,800</td>\n",
       "      <td>Scotland</td>\n",
       "      <td>Yes</td>\n",
       "      <td>10</td>\n",
       "      <td>10</td>\n",
       "      <td>Hand-Rolled</td>\n",
       "    </tr>\n",
       "    <tr>\n",
       "      <td>193</td>\n",
       "      <td>Female</td>\n",
       "      <td>30</td>\n",
       "      <td>Single</td>\n",
       "      <td>Degree</td>\n",
       "      <td>British</td>\n",
       "      <td>5,200 to 10,400</td>\n",
       "      <td>London</td>\n",
       "      <td>Yes</td>\n",
       "      <td>3</td>\n",
       "      <td>3</td>\n",
       "      <td>Packets</td>\n",
       "    </tr>\n",
       "    <tr>\n",
       "      <td>197</td>\n",
       "      <td>Male</td>\n",
       "      <td>30</td>\n",
       "      <td>Married</td>\n",
       "      <td>Degree</td>\n",
       "      <td>English</td>\n",
       "      <td>Above 36,400</td>\n",
       "      <td>London</td>\n",
       "      <td>Yes</td>\n",
       "      <td>1</td>\n",
       "      <td>0</td>\n",
       "      <td>Packets</td>\n",
       "    </tr>\n",
       "  </tbody>\n",
       "</table>\n",
       "</div>"
      ],
      "text/plain": [
       "        sex  age marital_status highest_qualification nationality  \\\n",
       "321    Male   30         Single     Higher/Sub Degree     English   \n",
       "163  Female   30         Single          GCSE/O Level     British   \n",
       "384    Male   30        Married              ONC/BTEC    Scottish   \n",
       "193  Female   30         Single                Degree     British   \n",
       "197    Male   30        Married                Degree     English   \n",
       "\n",
       "         gross_income                  region smoke  amt_weekends  \\\n",
       "321  20,800 to 28,600              South West   Yes             4   \n",
       "163  10,400 to 15,600  Midlands & East Anglia   Yes             5   \n",
       "384  15,600 to 20,800                Scotland   Yes            10   \n",
       "193   5,200 to 10,400                  London   Yes             3   \n",
       "197      Above 36,400                  London   Yes             1   \n",
       "\n",
       "     amt_weekdays         type  \n",
       "321             1      Packets  \n",
       "163            10  Hand-Rolled  \n",
       "384            10  Hand-Rolled  \n",
       "193             3      Packets  \n",
       "197             0      Packets  "
      ]
     },
     "execution_count": 10,
     "metadata": {},
     "output_type": "execute_result"
    }
   ],
   "source": [
    "df_30.iloc[0:5,:]"
   ]
  },
  {
   "cell_type": "markdown",
   "metadata": {},
   "source": [
    "### 8. [2 pts] Out of all the UK smokers in this dataset that are at least 30, what is maximum amount of cigarettes that a person in this age group smokes on the weekends?"
   ]
  },
  {
   "cell_type": "code",
   "execution_count": 11,
   "metadata": {},
   "outputs": [
    {
     "data": {
      "text/plain": [
       "60"
      ]
     },
     "execution_count": 11,
     "metadata": {},
     "output_type": "execute_result"
    }
   ],
   "source": [
    "df_30['amt_weekends'].max()"
   ]
  },
  {
   "cell_type": "markdown",
   "metadata": {},
   "source": [
    "### 9. [2 pts] What proportion of smokers in the whole dataset (ie. df) are at least 30?"
   ]
  },
  {
   "cell_type": "code",
   "execution_count": 12,
   "metadata": {},
   "outputs": [
    {
     "name": "stdout",
     "output_type": "stream",
     "text": [
      "Number of rows in the whole dataframe\n",
      "421\n",
      "Number of rows in the 30 and up dataframe\n",
      "318\n",
      "Proportion of smokers in the whole dataset (ie. df) are at least 30\n",
      "0.7553444180522565\n"
     ]
    }
   ],
   "source": [
    "print('Number of rows in the whole dataframe')\n",
    "whole = df.shape[0]\n",
    "print(whole)\n",
    "print('Number of rows in the 30 and up dataframe')\n",
    "part =df_30.shape[0]\n",
    "print(part)\n",
    "print('Proportion of smokers in the whole dataset (ie. df) are at least 30')\n",
    "print(318/421)"
   ]
  },
  {
   "cell_type": "markdown",
   "metadata": {},
   "source": [
    "### 10. [2 pts] Display a density histogram of \"amt_weekends\" for <u>all smokers</u> in the dataframe df.\n",
    "\n",
    "**Make sure you appropriately label the following in this plot:**\n",
    "* the x-axis\n",
    "* the y-axis\n",
    "* the title."
   ]
  },
  {
   "cell_type": "code",
   "execution_count": 13,
   "metadata": {},
   "outputs": [
    {
     "data": {
      "image/png": "[encoded data removed]",
      "text/plain": [
       "<Figure size 432x288 with 1 Axes>"
      ]
     },
     "metadata": {
      "needs_background": "light"
     },
     "output_type": "display_data"
    }
   ],
   "source": [
    "df['amt_weekends'].hist(density= True)\n",
    "plt.title('Histogram of \"amt_weekends\" for all smokers')\n",
    "plt.xlabel('amount somked on weekends')\n",
    "plt.ylabel('density')\n",
    "plt.show()"
   ]
  },
  {
   "cell_type": "markdown",
   "metadata": {},
   "source": [
    "### 11. [2 pts] Display a density histogram of \"amt_weekends\"  <u>just for 'Male' smokers</u> in the dataframe df.\n",
    "\n",
    "**Make sure you appropriately label the following in this plot:**\n",
    "* the x-axis\n",
    "* the y-axis\n",
    "* the title."
   ]
  },
  {
   "cell_type": "code",
   "execution_count": 14,
   "metadata": {},
   "outputs": [
    {
     "data": {
      "image/png": "[encoded data removed]",
      "text/plain": [
       "<Figure size 432x288 with 1 Axes>"
      ]
     },
     "metadata": {
      "needs_background": "light"
     },
     "output_type": "display_data"
    }
   ],
   "source": [
    "df_male = df[df['sex'] == 'Male']  \n",
    "df_male['amt_weekends'].hist(density= True)\n",
    "plt.title('Histogram of \"amt_weekends\" for just Male smokers')\n",
    "plt.xlabel('amount somked on weekends')\n",
    "plt.ylabel('density')\n",
    "plt.show()"
   ]
  },
  {
   "cell_type": "markdown",
   "metadata": {},
   "source": [
    "### 12. [2 pts] Display a density histogram of \"amt_weekends\"  <u>just for 'Female' smokers</u> in the dataframe df.\n",
    "\n",
    "**Make sure you appropriately label the following in this plot:**\n",
    "* the x-axis\n",
    "* the y-axis\n",
    "* the title."
   ]
  },
  {
   "cell_type": "code",
   "execution_count": 15,
   "metadata": {},
   "outputs": [
    {
     "data": {
      "image/png": "[encoded data removed]",
      "text/plain": [
       "<Figure size 432x288 with 1 Axes>"
      ]
     },
     "metadata": {
      "needs_background": "light"
     },
     "output_type": "display_data"
    }
   ],
   "source": [
    "df_Female = df[df['sex'] == 'Female']  \n",
    "df_Female['amt_weekends'].hist(density= True)\n",
    "plt.title('Histogram of \"amt_weekends\" for just Female smokers')\n",
    "plt.xlabel('amount somked on weekends')\n",
    "plt.ylabel('density')\n",
    "plt.show()"
   ]
  },
  {
   "cell_type": "markdown",
   "metadata": {},
   "source": [
    "### 13. [2 pts] For the whole dataset 'df', calculate the following for the amt_weekends variable:\n",
    "* minimum\n",
    "* maximum\n",
    "* Q1\n",
    "* median\n",
    "* Q3\n",
    "* maximum."
   ]
  },
  {
   "cell_type": "code",
   "execution_count": 16,
   "metadata": {},
   "outputs": [
    {
     "name": "stdout",
     "output_type": "stream",
     "text": [
      "Minimum = 0\n",
      "Maximum = 60\n",
      "First quartile (Q1) = 10.0\n",
      "Median = 15.0\n",
      "Third quartile (Q3) = 20.0\n",
      "Mean =  16.410926365795724\n"
     ]
    }
   ],
   "source": [
    "print(\"Minimum =\", df['amt_weekends'].min())\n",
    "print(\"Maximum =\", df['amt_weekends'].max())\n",
    "print(\"First quartile (Q1) =\", df['amt_weekends'].quantile(q=0.25))\n",
    "print(\"Median =\", df['amt_weekends'].median())\n",
    "#print(\"Standard Deviation =  \", df['age'].std())\n",
    "print(\"Third quartile (Q3) =\", df['amt_weekends'].quantile(q=0.75))\n",
    "print(\"Mean = \", df['amt_weekends'].mean())"
   ]
  },
  {
   "cell_type": "markdown",
   "metadata": {},
   "source": [
    "### 14 [2 pts] For <u>just the males</u> in the df dataframe, calculate the following for the amt_weekends variable:\n",
    "* minimum\n",
    "* maximum\n",
    "* Q1\n",
    "* median\n",
    "* Q3\n",
    "* maximum."
   ]
  },
  {
   "cell_type": "code",
   "execution_count": 17,
   "metadata": {},
   "outputs": [
    {
     "name": "stdout",
     "output_type": "stream",
     "text": [
      "Minimum = 0\n",
      "Maximum = 60\n",
      "First quartile (Q1) = 10.0\n",
      "Median = 20.0\n",
      "Third quartile (Q3) = 24.5\n",
      "Mean =  18.171122994652407\n"
     ]
    }
   ],
   "source": [
    "print(\"Minimum =\", df_male['amt_weekends'].min())\n",
    "print(\"Maximum =\", df_male['amt_weekends'].max())\n",
    "print(\"First quartile (Q1) =\", df_male['amt_weekends'].quantile(q=0.25))\n",
    "print(\"Median =\", df_male['amt_weekends'].median())\n",
    "#print(\"Standard Deviation =  \", df['age'].std())\n",
    "print(\"Third quartile (Q3) =\", df_male['amt_weekends'].quantile(q=0.75))\n",
    "print(\"Mean = \", df_male['amt_weekends'].mean())"
   ]
  },
  {
   "cell_type": "markdown",
   "metadata": {},
   "source": [
    "### 15 [2 pts] For <u>just the females</u> in the df dataframe, calculate the following for the amt_weekends variable:\n",
    "* minimum\n",
    "* maximum\n",
    "* Q1\n",
    "* median\n",
    "* Q3\n",
    "* maximum."
   ]
  },
  {
   "cell_type": "code",
   "execution_count": 18,
   "metadata": {},
   "outputs": [
    {
     "name": "stdout",
     "output_type": "stream",
     "text": [
      "Minimum = 0\n",
      "Maximum = 60\n",
      "First quartile (Q1) = 10.0\n",
      "Median = 15.0\n",
      "Third quartile (Q3) = 20.0\n",
      "Mean =  15.004273504273504\n"
     ]
    }
   ],
   "source": [
    "print(\"Minimum =\", df_Female['amt_weekends'].min())\n",
    "print(\"Maximum =\", df_Female['amt_weekends'].max())\n",
    "print(\"First quartile (Q1) =\", df_Female['amt_weekends'].quantile(q=0.25))\n",
    "print(\"Median =\", df_Female['amt_weekends'].median())\n",
    "#print(\"Standard Deviation =  \", df['age'].std())\n",
    "print(\"Third quartile (Q3) =\", df_Female['amt_weekends'].quantile(q=0.75))\n",
    "print(\"Mean = \", df_Female['amt_weekends'].mean())"
   ]
  },
  {
   "cell_type": "markdown",
   "metadata": {},
   "source": [
    "### 16. [2pts] Compare the skew, IQR, and medians of the the amount smoked on the weekends by male and female smokers in this dataset."
   ]
  },
  {
   "cell_type": "markdown",
   "metadata": {},
   "source": [
    "The shape of both graphs are mostly right skewed explain both by visualization and the median and Q1 Q3 both kind left to the middle of the graph. And bimodal, both peaks are around 10 and 20."
   ]
  },
  {
   "cell_type": "markdown",
   "metadata": {},
   "source": [
    "the IQR between two set of data are 10 for female smokers, 14.5 for only male smokers, which means the mean for male smokers are higher. "
   ]
  },
  {
   "cell_type": "markdown",
   "metadata": {},
   "source": [
    "The medians for male is 20 and for female 15, thus we can say the middle value of male are higher than female, and the sum for male will be greater than female's"
   ]
  },
  {
   "cell_type": "code",
   "execution_count": null,
   "metadata": {},
   "outputs": [],
   "source": []
  }
 ],
 "metadata": {
  "kernelspec": {
   "display_name": "Python 3",
   "language": "python",
   "name": "python3"
  },
  "language_info": {
   "codemirror_mode": {
    "name": "ipython",
    "version": 3
   },
   "file_extension": ".py",
   "mimetype": "text/x-python",
   "name": "python",
   "nbconvert_exporter": "python",
   "pygments_lexer": "ipython3",
   "version": "3.7.4"
  }
 },
 "nbformat": 4,
 "nbformat_minor": 2
}
