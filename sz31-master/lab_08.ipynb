{
 "cells": [
  {
   "cell_type": "markdown",
   "metadata": {},
   "source": [
    "# STAT 207 Lab 8: Inference for Associations - [25 total points] - Solutions"
   ]
  },
  {
   "cell_type": "markdown",
   "metadata": {},
   "source": [
    "Due: Wednesday, March 31 11:59pm CST\n",
    "\n",
    "\n",
    "\n",
    "## <u>Case Study 1</u>: U.S Unemployment Rates and Metropolitan Areas\n",
    "In this lab we will explore the statistical concepts that we've learned this week while also examining the RELATIONSHIP between **unemployment rates** and **whether the county is a metropolitan county or not** in the U.S. \n",
    "\n",
    "The **metro** variable indicates \"yes\" if the county is a metropolitan area and indicates \"no\" otherwise.\n",
    "\n",
    "## <u>Case Study 2</u>: U.S Median Education Levels and Metropolitan Areas\n",
    "Also in this lab we will explore the statistical concepts that we've learned this week while also examining the RELATIONSHIP between **median educataion level** and **whether the county is a metropolitan county or not** in the U.S. "
   ]
  },
  {
   "cell_type": "markdown",
   "metadata": {},
   "source": [
    "### Imports"
   ]
  },
  {
   "cell_type": "code",
   "execution_count": 2,
   "metadata": {},
   "outputs": [],
   "source": [
    "import pandas as pd                    # imports pandas and calls the imported version 'pd'\n",
    "import matplotlib.pyplot as plt        # imports the package and calls it 'plt'\n",
    "import seaborn as sns                  # imports the seaborn package with the imported name 'sns'\n",
    "sns.set()                              # sets the default plotting style\n",
    "import numpy as np"
   ]
  },
  {
   "cell_type": "markdown",
   "metadata": {},
   "source": [
    "## 1. <u>Preliminaries</u>"
   ]
  },
  {
   "cell_type": "markdown",
   "metadata": {},
   "source": [
    "### 1.1 [0.5pt] Read the county.csv into a dataframe, call it df, and display the first five rows.\n",
    "\n",
    "Remember that 'data unavailable' represents missing values in this csv. Make sure you encode these values as NaN when you read the data in."
   ]
  },
  {
   "cell_type": "code",
   "execution_count": 3,
   "metadata": {},
   "outputs": [
    {
     "data": {
      "text/html": [
       "<div>\n",
       "<style scoped>\n",
       "    .dataframe tbody tr th:only-of-type {\n",
       "        vertical-align: middle;\n",
       "    }\n",
       "\n",
       "    .dataframe tbody tr th {\n",
       "        vertical-align: top;\n",
       "    }\n",
       "\n",
       "    .dataframe thead th {\n",
       "        text-align: right;\n",
       "    }\n",
       "</style>\n",
       "<table border=\"1\" class=\"dataframe\">\n",
       "  <thead>\n",
       "    <tr style=\"text-align: right;\">\n",
       "      <th></th>\n",
       "      <th>name</th>\n",
       "      <th>state</th>\n",
       "      <th>pop2000</th>\n",
       "      <th>pop2010</th>\n",
       "      <th>pop2017</th>\n",
       "      <th>pop_change</th>\n",
       "      <th>poverty</th>\n",
       "      <th>homeownership</th>\n",
       "      <th>multi_unit</th>\n",
       "      <th>unemployment_rate</th>\n",
       "      <th>metro</th>\n",
       "      <th>median_edu</th>\n",
       "      <th>per_capita_income</th>\n",
       "      <th>median_hh_income</th>\n",
       "      <th>smoking_ban</th>\n",
       "    </tr>\n",
       "  </thead>\n",
       "  <tbody>\n",
       "    <tr>\n",
       "      <td>0</td>\n",
       "      <td>Autauga County</td>\n",
       "      <td>Alabama</td>\n",
       "      <td>43671.0</td>\n",
       "      <td>54571</td>\n",
       "      <td>55504.0</td>\n",
       "      <td>1.48</td>\n",
       "      <td>13.7</td>\n",
       "      <td>77.5</td>\n",
       "      <td>7.2</td>\n",
       "      <td>3.86</td>\n",
       "      <td>yes</td>\n",
       "      <td>some_college</td>\n",
       "      <td>27841.70</td>\n",
       "      <td>55317.0</td>\n",
       "      <td>none</td>\n",
       "    </tr>\n",
       "    <tr>\n",
       "      <td>1</td>\n",
       "      <td>Baldwin County</td>\n",
       "      <td>Alabama</td>\n",
       "      <td>140415.0</td>\n",
       "      <td>182265</td>\n",
       "      <td>212628.0</td>\n",
       "      <td>9.19</td>\n",
       "      <td>11.8</td>\n",
       "      <td>76.7</td>\n",
       "      <td>22.6</td>\n",
       "      <td>3.99</td>\n",
       "      <td>yes</td>\n",
       "      <td>some_college</td>\n",
       "      <td>27779.85</td>\n",
       "      <td>52562.0</td>\n",
       "      <td>none</td>\n",
       "    </tr>\n",
       "    <tr>\n",
       "      <td>2</td>\n",
       "      <td>Barbour County</td>\n",
       "      <td>Alabama</td>\n",
       "      <td>29038.0</td>\n",
       "      <td>27457</td>\n",
       "      <td>25270.0</td>\n",
       "      <td>-6.22</td>\n",
       "      <td>27.2</td>\n",
       "      <td>68.0</td>\n",
       "      <td>11.1</td>\n",
       "      <td>5.90</td>\n",
       "      <td>no</td>\n",
       "      <td>hs_diploma</td>\n",
       "      <td>17891.73</td>\n",
       "      <td>33368.0</td>\n",
       "      <td>partial</td>\n",
       "    </tr>\n",
       "    <tr>\n",
       "      <td>3</td>\n",
       "      <td>Bibb County</td>\n",
       "      <td>Alabama</td>\n",
       "      <td>20826.0</td>\n",
       "      <td>22915</td>\n",
       "      <td>22668.0</td>\n",
       "      <td>0.73</td>\n",
       "      <td>15.2</td>\n",
       "      <td>82.9</td>\n",
       "      <td>6.6</td>\n",
       "      <td>4.39</td>\n",
       "      <td>yes</td>\n",
       "      <td>hs_diploma</td>\n",
       "      <td>20572.05</td>\n",
       "      <td>43404.0</td>\n",
       "      <td>none</td>\n",
       "    </tr>\n",
       "    <tr>\n",
       "      <td>4</td>\n",
       "      <td>Blount County</td>\n",
       "      <td>Alabama</td>\n",
       "      <td>51024.0</td>\n",
       "      <td>57322</td>\n",
       "      <td>58013.0</td>\n",
       "      <td>0.68</td>\n",
       "      <td>15.6</td>\n",
       "      <td>82.0</td>\n",
       "      <td>3.7</td>\n",
       "      <td>4.02</td>\n",
       "      <td>yes</td>\n",
       "      <td>hs_diploma</td>\n",
       "      <td>21367.39</td>\n",
       "      <td>47412.0</td>\n",
       "      <td>none</td>\n",
       "    </tr>\n",
       "  </tbody>\n",
       "</table>\n",
       "</div>"
      ],
      "text/plain": [
       "             name    state   pop2000  pop2010   pop2017  pop_change  poverty  \\\n",
       "0  Autauga County  Alabama   43671.0    54571   55504.0        1.48     13.7   \n",
       "1  Baldwin County  Alabama  140415.0   182265  212628.0        9.19     11.8   \n",
       "2  Barbour County  Alabama   29038.0    27457   25270.0       -6.22     27.2   \n",
       "3     Bibb County  Alabama   20826.0    22915   22668.0        0.73     15.2   \n",
       "4   Blount County  Alabama   51024.0    57322   58013.0        0.68     15.6   \n",
       "\n",
       "   homeownership  multi_unit  unemployment_rate metro    median_edu  \\\n",
       "0           77.5         7.2               3.86   yes  some_college   \n",
       "1           76.7        22.6               3.99   yes  some_college   \n",
       "2           68.0        11.1               5.90    no    hs_diploma   \n",
       "3           82.9         6.6               4.39   yes    hs_diploma   \n",
       "4           82.0         3.7               4.02   yes    hs_diploma   \n",
       "\n",
       "   per_capita_income  median_hh_income smoking_ban  \n",
       "0           27841.70           55317.0        none  \n",
       "1           27779.85           52562.0        none  \n",
       "2           17891.73           33368.0     partial  \n",
       "3           20572.05           43404.0        none  \n",
       "4           21367.39           47412.0        none  "
      ]
     },
     "execution_count": 3,
     "metadata": {},
     "output_type": "execute_result"
    }
   ],
   "source": [
    "df = pd.read_csv('county.csv', na_values=['data unavailable'])         #read the file\n",
    "df.head()"
   ]
  },
  {
   "cell_type": "markdown",
   "metadata": {},
   "source": [
    "### 1.2 [0.5pt] Create a dataframe that is just comprised of the metro variable,  the unemployment rates variable, and the median_edu variable. Then drop all missing values from this dataframe."
   ]
  },
  {
   "cell_type": "code",
   "execution_count": 4,
   "metadata": {},
   "outputs": [
    {
     "data": {
      "text/html": [
       "<div>\n",
       "<style scoped>\n",
       "    .dataframe tbody tr th:only-of-type {\n",
       "        vertical-align: middle;\n",
       "    }\n",
       "\n",
       "    .dataframe tbody tr th {\n",
       "        vertical-align: top;\n",
       "    }\n",
       "\n",
       "    .dataframe thead th {\n",
       "        text-align: right;\n",
       "    }\n",
       "</style>\n",
       "<table border=\"1\" class=\"dataframe\">\n",
       "  <thead>\n",
       "    <tr style=\"text-align: right;\">\n",
       "      <th></th>\n",
       "      <th>metro</th>\n",
       "      <th>unemployment_rate</th>\n",
       "      <th>median_edu</th>\n",
       "    </tr>\n",
       "  </thead>\n",
       "  <tbody>\n",
       "    <tr>\n",
       "      <td>0</td>\n",
       "      <td>yes</td>\n",
       "      <td>3.86</td>\n",
       "      <td>some_college</td>\n",
       "    </tr>\n",
       "    <tr>\n",
       "      <td>1</td>\n",
       "      <td>yes</td>\n",
       "      <td>3.99</td>\n",
       "      <td>some_college</td>\n",
       "    </tr>\n",
       "    <tr>\n",
       "      <td>2</td>\n",
       "      <td>no</td>\n",
       "      <td>5.90</td>\n",
       "      <td>hs_diploma</td>\n",
       "    </tr>\n",
       "    <tr>\n",
       "      <td>3</td>\n",
       "      <td>yes</td>\n",
       "      <td>4.39</td>\n",
       "      <td>hs_diploma</td>\n",
       "    </tr>\n",
       "    <tr>\n",
       "      <td>4</td>\n",
       "      <td>yes</td>\n",
       "      <td>4.02</td>\n",
       "      <td>hs_diploma</td>\n",
       "    </tr>\n",
       "  </tbody>\n",
       "</table>\n",
       "</div>"
      ],
      "text/plain": [
       "  metro  unemployment_rate    median_edu\n",
       "0   yes               3.86  some_college\n",
       "1   yes               3.99  some_college\n",
       "2    no               5.90    hs_diploma\n",
       "3   yes               4.39    hs_diploma\n",
       "4   yes               4.02    hs_diploma"
      ]
     },
     "execution_count": 4,
     "metadata": {},
     "output_type": "execute_result"
    }
   ],
   "source": [
    "data_set = df[['metro','unemployment_rate','median_edu']].dropna()\n",
    "data_set.head()"
   ]
  },
  {
   "cell_type": "markdown",
   "metadata": {},
   "source": [
    "### 1.3 [0.5pt] How many counties are metropolitan counties and how many are not?"
   ]
  },
  {
   "cell_type": "code",
   "execution_count": 5,
   "metadata": {},
   "outputs": [
    {
     "data": {
      "text/plain": [
       "no     1974\n",
       "yes    1165\n",
       "Name: metro, dtype: int64"
      ]
     },
     "execution_count": 5,
     "metadata": {},
     "output_type": "execute_result"
    }
   ],
   "source": [
    "data_set['metro'].value_counts()"
   ]
  },
  {
   "cell_type": "markdown",
   "metadata": {},
   "source": [
    "### 1.4 [0.5pt] Next, split this dataframe into two population dataframes:\n",
    "1. <u>Population 1</u>:the counties that are metropolitan areas\n",
    "2. <u>Population 2</u>:the counties that are not metropolitan areas\n"
   ]
  },
  {
   "cell_type": "code",
   "execution_count": 6,
   "metadata": {},
   "outputs": [],
   "source": [
    "population1 = data_set[data_set['metro']=='yes']"
   ]
  },
  {
   "cell_type": "code",
   "execution_count": 7,
   "metadata": {},
   "outputs": [],
   "source": [
    "population2 = data_set[data_set['metro']=='no']"
   ]
  },
  {
   "cell_type": "markdown",
   "metadata": {},
   "source": [
    "### 1.5 [0.5pt] Calculate the mean and standard deviation unemployment rates for these two populations."
   ]
  },
  {
   "cell_type": "code",
   "execution_count": 8,
   "metadata": {},
   "outputs": [],
   "source": [
    "mean1_p1 = population1.mean()\n",
    "std1_p1 = population1.std()"
   ]
  },
  {
   "cell_type": "code",
   "execution_count": 9,
   "metadata": {},
   "outputs": [
    {
     "name": "stdout",
     "output_type": "stream",
     "text": [
      "for population 1\n",
      " mean: unemployment_rate    4.397957\n",
      "dtype: float64 std: unemployment_rate    1.29918\n",
      "dtype: float64\n"
     ]
    }
   ],
   "source": [
    "print('for population 1\\n', 'mean:',mean1_p1, 'std:', std1_p1)"
   ]
  },
  {
   "cell_type": "code",
   "execution_count": 10,
   "metadata": {},
   "outputs": [],
   "source": [
    "mean1_p2 = population2.mean()\n",
    "std1_p2 = population2.std()"
   ]
  },
  {
   "cell_type": "code",
   "execution_count": 11,
   "metadata": {},
   "outputs": [
    {
     "name": "stdout",
     "output_type": "stream",
     "text": [
      "for population 2\n",
      " mean: unemployment_rate    4.737437\n",
      "dtype: float64 std: unemployment_rate    1.812452\n",
      "dtype: float64\n"
     ]
    }
   ],
   "source": [
    "print('for population 2\\n', 'mean:',mean1_p2, 'std:', std1_p2)"
   ]
  },
  {
   "cell_type": "markdown",
   "metadata": {},
   "source": [
    "### 1.6 [0.5pt] Finally, calculate the proportion of counties in the metro population that have a median education level of high school diploma and  calculate the proportion of counties in the non-metro population that have a median education level of high school diploma."
   ]
  },
  {
   "cell_type": "code",
   "execution_count": 12,
   "metadata": {},
   "outputs": [
    {
     "data": {
      "text/plain": [
       "0.26781115879828327"
      ]
     },
     "execution_count": 12,
     "metadata": {},
     "output_type": "execute_result"
    }
   ],
   "source": [
    "m1 = population1[population1['median_edu']=='hs_diploma']\n",
    "prob1 = m1.shape[0]/population1.shape[0]\n",
    "prob1"
   ]
  },
  {
   "cell_type": "code",
   "execution_count": 13,
   "metadata": {},
   "outputs": [
    {
     "data": {
      "text/plain": [
       "0.549645390070922"
      ]
     },
     "execution_count": 13,
     "metadata": {},
     "output_type": "execute_result"
    }
   ],
   "source": [
    "m2 = population2[population2['median_edu']=='hs_diploma']\n",
    "prob2 = m2.shape[0]/population2.shape[0]\n",
    "prob2"
   ]
  },
  {
   "cell_type": "markdown",
   "metadata": {},
   "source": [
    "## 2. Numerical Sample Analysis\n",
    "\n",
    "### 2.1 [1 pt] Collect a random sample of 40 metropolitan counties (using a random state of 100 without replacement) and do the following.\n",
    "a. calculate the sample mean and standard deviation of the unemployment rate\n",
    "\n",
    "b. plot the sample distribution of unemployment rates."
   ]
  },
  {
   "cell_type": "code",
   "execution_count": 14,
   "metadata": {},
   "outputs": [],
   "source": [
    "sample1 = population1.sample(40,replace = False, random_state = 100)"
   ]
  },
  {
   "cell_type": "code",
   "execution_count": 15,
   "metadata": {},
   "outputs": [
    {
     "data": {
      "text/plain": [
       "4.58225"
      ]
     },
     "execution_count": 15,
     "metadata": {},
     "output_type": "execute_result"
    }
   ],
   "source": [
    "mean2_1 = sample1['unemployment_rate'].mean()\n",
    "mean2_1"
   ]
  },
  {
   "cell_type": "code",
   "execution_count": 16,
   "metadata": {},
   "outputs": [
    {
     "data": {
      "text/plain": [
       "1.2359995176747873"
      ]
     },
     "execution_count": 16,
     "metadata": {},
     "output_type": "execute_result"
    }
   ],
   "source": [
    "std2_1 = sample1['unemployment_rate'].std()\n",
    "std2_1"
   ]
  },
  {
   "cell_type": "code",
   "execution_count": 17,
   "metadata": {},
   "outputs": [
    {
     "data": {
      "image/png": "[encoded data removed]",
      "text/plain": [
       "<Figure size 432x288 with 1 Axes>"
      ]
     },
     "metadata": {
      "needs_background": "light"
     },
     "output_type": "display_data"
    }
   ],
   "source": [
    "sample1.hist()\n",
    "plt.title('population distribution of metropolitan counties')\n",
    "plt.xlabel('metropolitan counties')\n",
    "plt.show()"
   ]
  },
  {
   "cell_type": "code",
   "execution_count": null,
   "metadata": {},
   "outputs": [],
   "source": []
  },
  {
   "cell_type": "markdown",
   "metadata": {},
   "source": [
    "### 2.2 [1 pt] Collect a random sample of 50 non-metropolitan counties (using a random state of 100 without replacement) and do the following.\n",
    "a. calculate the sample mean and standard deviation of the unemployment rate\n",
    "\n",
    "b. plot the sample distribution of unemployment rates."
   ]
  },
  {
   "cell_type": "code",
   "execution_count": 18,
   "metadata": {},
   "outputs": [],
   "source": [
    "sample2 = population2.sample(50,replace = False, random_state = 100)"
   ]
  },
  {
   "cell_type": "code",
   "execution_count": 19,
   "metadata": {},
   "outputs": [
    {
     "data": {
      "text/plain": [
       "4.567400000000001"
      ]
     },
     "execution_count": 19,
     "metadata": {},
     "output_type": "execute_result"
    }
   ],
   "source": [
    "mean2_2 = sample2['unemployment_rate'].mean()\n",
    "mean2_2"
   ]
  },
  {
   "cell_type": "code",
   "execution_count": 20,
   "metadata": {},
   "outputs": [
    {
     "data": {
      "text/plain": [
       "1.454124057812883"
      ]
     },
     "execution_count": 20,
     "metadata": {},
     "output_type": "execute_result"
    }
   ],
   "source": [
    "std2_2 = sample2['unemployment_rate'].std()\n",
    "std2_2"
   ]
  },
  {
   "cell_type": "code",
   "execution_count": 21,
   "metadata": {},
   "outputs": [
    {
     "data": {
      "image/png": "[encoded data removed]",
      "text/plain": [
       "<Figure size 432x288 with 1 Axes>"
      ]
     },
     "metadata": {
      "needs_background": "light"
     },
     "output_type": "display_data"
    }
   ],
   "source": [
    "sample2.hist()\n",
    "plt.title('population distribution of metropolitan counties')\n",
    "plt.xlabel('metropolitan counties')\n",
    "plt.show()"
   ]
  },
  {
   "cell_type": "code",
   "execution_count": null,
   "metadata": {},
   "outputs": [],
   "source": []
  },
  {
   "cell_type": "markdown",
   "metadata": {},
   "source": [
    "## 3. Sampling Distribution (of sample mean differences) Analysis\n",
    "\n",
    "Assume that you have access to the populations you created in #1 in this part.\n",
    "\n",
    "### 3.1 [1 pt] Calculate the mean and standard deviation of the sampling distribution of sample mean differences (ie. $\\bar{x}_{metro}-\\bar{x}_{nonmetro}$ values)"
   ]
  },
  {
   "cell_type": "code",
   "execution_count": 22,
   "metadata": {},
   "outputs": [
    {
     "data": {
      "text/plain": [
       "unemployment_rate   -0.33948\n",
       "dtype: float64"
      ]
     },
     "execution_count": 22,
     "metadata": {},
     "output_type": "execute_result"
    }
   ],
   "source": [
    "mean3_1= mean1_p1 - mean1_p2\n",
    "mean3_1"
   ]
  },
  {
   "cell_type": "code",
   "execution_count": 23,
   "metadata": {},
   "outputs": [
    {
     "data": {
      "text/plain": [
       "unemployment_rate    0.328476\n",
       "dtype: float64"
      ]
     },
     "execution_count": 23,
     "metadata": {},
     "output_type": "execute_result"
    }
   ],
   "source": [
    "std3_1 = np.sqrt((std1_p1**2/40)+(std1_p2**2/50))\n",
    "std3_1"
   ]
  },
  {
   "cell_type": "markdown",
   "metadata": {},
   "source": [
    "### 3.2 [1 pt] Using the sample mean values $\\bar{x}_{metro}$ and $\\bar{x}_{nonmetro}$ that you calculated in #2, calculate the z-score of  $(\\bar{x}_{metro}-\\bar{x}_{nonmetro})$."
   ]
  },
  {
   "cell_type": "code",
   "execution_count": 24,
   "metadata": {},
   "outputs": [
    {
     "data": {
      "text/plain": [
       "unemployment_rate    1.078708\n",
       "dtype: float64"
      ]
     },
     "execution_count": 24,
     "metadata": {},
     "output_type": "execute_result"
    }
   ],
   "source": [
    "from scipy.stats import norm\n",
    "critical_value = ((mean2_1-mean2_2)-mean3_1)/std3_1\n",
    "critical_value"
   ]
  },
  {
   "cell_type": "markdown",
   "metadata": {},
   "source": [
    "## 4. Association Testing for Metro Areas and Unemployment Rate\n",
    "\n",
    "**<font color=\"green\">Now, assume that we do not know anything about the populations from #1.</font>**\n",
    "\n",
    "We would like to test if there is an association between whether or not a county is a metropolitan area and the unemployment rate. Or in other words, we would like to see if we have enough evidence to suggest that the mean unemployment rate of all metropolitan counties is different from the mean unemployment rate of all non-metropolitan counties.\n",
    "\n",
    "We will use the two samples we collected from #2 to help us conduct this test.\n",
    "\n",
    "### 4.1 [1 pt] Set up the hypotheses for this test."
   ]
  },
  {
   "cell_type": "markdown",
   "metadata": {},
   "source": [
    "    null: mean unemployment rate of all metropolitan counties - mean unemployment rate of all non-metropolitan counties = 0\n",
    "    hypothses: mean unemployment rate of all metropolitan counties - mean unemployment rate of all non-metropolitan counties =! 0"
   ]
  },
  {
   "cell_type": "markdown",
   "metadata": {},
   "source": [
    "### 4.2 [2 pt] Check the conditions for conducting inference on these hypotheses."
   ]
  },
  {
   "cell_type": "markdown",
   "metadata": {},
   "source": [
    "1. the condition is indepedent: because the both sample size(40,50) is less than 10% of the data size (1165,2974)\n",
    "2. n1 =40 > 30, n2 = 50 >30"
   ]
  },
  {
   "cell_type": "code",
   "execution_count": 25,
   "metadata": {},
   "outputs": [
    {
     "data": {
      "text/plain": [
       "1974"
      ]
     },
     "execution_count": 25,
     "metadata": {},
     "output_type": "execute_result"
    }
   ],
   "source": [
    "population2.shape[0]"
   ]
  },
  {
   "cell_type": "markdown",
   "metadata": {},
   "source": [
    "### 4.3 [1.5 pt] Calculate a 90% confidence interval for $\\mu_{metro}-\\mu_{nonmetro}$.\n",
    "\n",
    "**Note:** You should use the most *accurate* way of calulating this confidence interval that we know now."
   ]
  },
  {
   "cell_type": "code",
   "execution_count": 26,
   "metadata": {},
   "outputs": [],
   "source": [
    "from scipy.stats import t\n",
    "df = min(sample1.shape[0]-1, sample2.shape[0]-1)\n",
    "c_v = t.ppf(0.95, df)"
   ]
  },
  {
   "cell_type": "code",
   "execution_count": 27,
   "metadata": {},
   "outputs": [
    {
     "data": {
      "text/plain": [
       "0.014849999999999142"
      ]
     },
     "execution_count": 27,
     "metadata": {},
     "output_type": "execute_result"
    }
   ],
   "source": [
    "p_e = mean2_1-mean2_2\n",
    "p_e"
   ]
  },
  {
   "cell_type": "code",
   "execution_count": 28,
   "metadata": {},
   "outputs": [
    {
     "data": {
      "text/plain": [
       "0.2836933303807331"
      ]
     },
     "execution_count": 28,
     "metadata": {},
     "output_type": "execute_result"
    }
   ],
   "source": [
    "std_error = np.sqrt((std2_1**2/40)+(std2_2**2/50))\n",
    "std_error"
   ]
  },
  {
   "cell_type": "code",
   "execution_count": 29,
   "metadata": {},
   "outputs": [
    {
     "name": "stdout",
     "output_type": "stream",
     "text": [
      "Lower bound is -0.46313783392585367 \n",
      " Upper bound is 0.49283783392585195\n"
     ]
    }
   ],
   "source": [
    "lower = p_e - c_v * std_error\n",
    "upper = p_e + c_v * std_error\n",
    "print(\"Lower bound is\", lower,'\\n', 'Upper bound is' , upper)"
   ]
  },
  {
   "cell_type": "markdown",
   "metadata": {},
   "source": [
    "### 4.4 [1 pt] Use this 90% confidence interval to make a conclusion about your hypotheses."
   ]
  },
  {
   "cell_type": "markdown",
   "metadata": {},
   "source": [
    "since the null difference 0 is between -0.45 and 0.48. We fail to reject the null hypotheses. And we say that we do not have have sufficient evidence to suggest the alternative test(mean unemployment rate of all metropolitan counties - mean unemployment rate of all non-metropolitan counties =! 0)"
   ]
  },
  {
   "cell_type": "markdown",
   "metadata": {},
   "source": [
    "### 4.5 [1.5 pt] Calculate the p-value for this hypothesis test.\n",
    "\n",
    "**Note:** You should use the most *accurate* way of calulating this p-value that we know now."
   ]
  },
  {
   "cell_type": "code",
   "execution_count": 30,
   "metadata": {},
   "outputs": [
    {
     "name": "stdout",
     "output_type": "stream",
     "text": [
      "0.9585207989519997\n"
     ]
    }
   ],
   "source": [
    "t_s = (p_e - 0)/std_error\n",
    "p_value = 2 * (1-t.cdf(np.abs(t_s),df))\n",
    "print(p_value)"
   ]
  },
  {
   "cell_type": "markdown",
   "metadata": {},
   "source": [
    "### 4.6 [1 pt] Use this p-value to make a conclusion about your hypotheses, using a significance level of $\\alpha=0.10$."
   ]
  },
  {
   "cell_type": "markdown",
   "metadata": {},
   "source": [
    "since the p-value = 0.958 > 𝛼=0.10\n",
    "so we fail to reject the null hypotheses. And we say that we do not have sufficient evidence to suggest the alternative test(mean unemployment rate of all metropolitan counties - mean unemployment rate of all non-metropolitan counties =! 0)"
   ]
  },
  {
   "cell_type": "markdown",
   "metadata": {},
   "source": [
    "## 5. Categorical Samples Analysis\n",
    "\n",
    "### [0.5 pt] 5.1 Using your metro and non-metro samples from #2, do the following.\n",
    "a. calculate the proportion of counties in the metro sample in which the a median education level is a high school diploma.\n",
    "\n",
    "b. calculate the proportion of counties in the nonmetro sample in which the a median education level is a high school diploma."
   ]
  },
  {
   "cell_type": "code",
   "execution_count": 31,
   "metadata": {},
   "outputs": [
    {
     "data": {
      "text/plain": [
       "0.375"
      ]
     },
     "execution_count": 31,
     "metadata": {},
     "output_type": "execute_result"
    }
   ],
   "source": [
    "prop_5a = sample1[sample1['median_edu']=='hs_diploma'].shape[0] / 40\n",
    "prop_5a"
   ]
  },
  {
   "cell_type": "code",
   "execution_count": 32,
   "metadata": {},
   "outputs": [
    {
     "data": {
      "text/plain": [
       "0.56"
      ]
     },
     "execution_count": 32,
     "metadata": {},
     "output_type": "execute_result"
    }
   ],
   "source": [
    "prop_5b = sample2[sample2['median_edu']=='hs_diploma'].shape[0] / 50\n",
    "prop_5b"
   ]
  },
  {
   "cell_type": "markdown",
   "metadata": {},
   "source": [
    "## 6. Sampling Distribution (of Sample Proportion Differences) Analysis\n",
    "\n",
    "Assume that you have access to the populations you created in #1 in this part.\n",
    "\n",
    "### 6.1 [1 pt] Calculate the mean and standard deviation of the sampling distribution of sample proportion differences (ie. $\\hat{p}_{metro}-\\hat{p}_{nonmetro}$ values)"
   ]
  },
  {
   "cell_type": "code",
   "execution_count": 33,
   "metadata": {},
   "outputs": [
    {
     "data": {
      "text/plain": [
       "-0.2818342312726387"
      ]
     },
     "execution_count": 33,
     "metadata": {},
     "output_type": "execute_result"
    }
   ],
   "source": [
    "mean6_1 = prob1 - prob2\n",
    "mean6_1"
   ]
  },
  {
   "cell_type": "code",
   "execution_count": 34,
   "metadata": {},
   "outputs": [
    {
     "data": {
      "text/plain": [
       "0.0992618519645348"
      ]
     },
     "execution_count": 34,
     "metadata": {},
     "output_type": "execute_result"
    }
   ],
   "source": [
    "std6_2 = np.sqrt((prob1*(1-prob1)/40)+(prob2*(1-prob2)/50))\n",
    "std6_2"
   ]
  },
  {
   "cell_type": "markdown",
   "metadata": {},
   "source": [
    "### 6.2 [1 pt] Using the sample proportion values $\\hat{p}_{metro}$ and $\\hat{p}_{nonmetro}$ that you calculated in #2, calculate the z-score of  $(\\hat{p}_{metro}-\\hat{p}_{nonmetro})$."
   ]
  },
  {
   "cell_type": "code",
   "execution_count": 35,
   "metadata": {},
   "outputs": [
    {
     "data": {
      "text/plain": [
       "0.975543266180813"
      ]
     },
     "execution_count": 35,
     "metadata": {},
     "output_type": "execute_result"
    }
   ],
   "source": [
    "critical_value = ((prop_5a-prop_5b)- mean6_1)/std6_2\n",
    "critical_value"
   ]
  },
  {
   "cell_type": "markdown",
   "metadata": {},
   "source": [
    "## 7. Association Testing for Metro Areas and Median Education Level\n",
    "\n",
    "**<font color=\"green\">Now, assume that we do not know anything about the populations from #1.</font>**\n",
    "\n",
    "We would like to test if there is an association between whether or not a county is a metropolitan area and the median education level. Or in other words, we would like to see if we have enough evidence to suggest that the proportion of all metropolitan counties that have a median education level of high school diploma is different from the proportion of all nonmetropolitan counties that have a median education level of high school diploma.\n",
    "\n",
    "We will use the two samples we collected from #2 to help us conduct this test.\n",
    "\n",
    "### 7.1 [1 pt] Set up the hypotheses for this test."
   ]
  },
  {
   "cell_type": "markdown",
   "metadata": {},
   "source": [
    "    Null p(metropolitan counties that have a median education level of high school diploma) - p(non metropolitan counties that have a median education level of high school diploma) = 0\n",
    "    hypothses difference is not 0"
   ]
  },
  {
   "cell_type": "markdown",
   "metadata": {},
   "source": [
    "### 7.2 [2 pt] Check the conditions for conducting inference on these tests."
   ]
  },
  {
   "cell_type": "code",
   "execution_count": 36,
   "metadata": {},
   "outputs": [
    {
     "data": {
      "text/plain": [
       "(15.0, 25.0)"
      ]
     },
     "execution_count": 36,
     "metadata": {},
     "output_type": "execute_result"
    }
   ],
   "source": [
    "(40*prop_5a,40*(1-prop_5a))"
   ]
  },
  {
   "cell_type": "code",
   "execution_count": 37,
   "metadata": {},
   "outputs": [
    {
     "data": {
      "text/plain": [
       "(28.000000000000004, 21.999999999999996)"
      ]
     },
     "execution_count": 37,
     "metadata": {},
     "output_type": "execute_result"
    }
   ],
   "source": [
    "(50*prop_5b,50*(1-prop_5b))"
   ]
  },
  {
   "cell_type": "markdown",
   "metadata": {},
   "source": [
    "1. $n_1p_1\\approx n_1\\hat{p}= 15< 10$ and $n_1(1-p_1)\\approx n_1(1-\\hat{p}_1)=25 < 10$\n",
    "2. $n_2p_2\\approx n_2\\hat{p}=28< 10$ and $n_2(1-p_2)\\approx n_2(1-\\hat{p}_2)=22 < 10$ \n",
    "3. Sample of republicans is randomly selected and n = 40 < 10% of database size\n",
    "4. Sample of republicans is randomly selected and n = 50 < 10% of database size\n",
    "5. observations in sample 1 and sample 2 are independne"
   ]
  },
  {
   "cell_type": "markdown",
   "metadata": {},
   "source": [
    "### 7.3 [1.5 pt] Calculate a 88% confidence interval for $p_{metro}-p_{nonmetro}$.\n"
   ]
  },
  {
   "cell_type": "code",
   "execution_count": 38,
   "metadata": {},
   "outputs": [
    {
     "data": {
      "text/plain": [
       "1.5547735945968535"
      ]
     },
     "execution_count": 38,
     "metadata": {},
     "output_type": "execute_result"
    }
   ],
   "source": [
    "c_v7 = norm.ppf(0.94)\n",
    "c_v7"
   ]
  },
  {
   "cell_type": "code",
   "execution_count": 39,
   "metadata": {},
   "outputs": [
    {
     "data": {
      "text/plain": [
       "-0.18500000000000005"
      ]
     },
     "execution_count": 39,
     "metadata": {},
     "output_type": "execute_result"
    }
   ],
   "source": [
    "p_e7 = prop_5a-prop_5b\n",
    "p_e7"
   ]
  },
  {
   "cell_type": "code",
   "execution_count": 40,
   "metadata": {
    "scrolled": true
   },
   "outputs": [
    {
     "data": {
      "text/plain": [
       "0.10386228863259271"
      ]
     },
     "execution_count": 40,
     "metadata": {},
     "output_type": "execute_result"
    }
   ],
   "source": [
    "std_error7 = np.sqrt((prop_5a*(1-prop_5a)/40)+(prop_5b*(1-prop_5b)/50))\n",
    "std_error7"
   ]
  },
  {
   "cell_type": "code",
   "execution_count": 41,
   "metadata": {},
   "outputs": [],
   "source": [
    "lower7 = p_e7 - c_v7 * std_error7\n",
    "upper7 = p_e7 + c_v7 * std_error7"
   ]
  },
  {
   "cell_type": "code",
   "execution_count": 42,
   "metadata": {},
   "outputs": [
    {
     "name": "stdout",
     "output_type": "stream",
     "text": [
      "Lower bound is -0.34648234384035215 \n",
      " Upper bound is -0.02351765615964796\n"
     ]
    }
   ],
   "source": [
    "print(\"Lower bound is\", lower7,'\\n', 'Upper bound is' , upper7)"
   ]
  },
  {
   "cell_type": "markdown",
   "metadata": {},
   "source": [
    "### 7.4 [1 pt] Use this 88% confidence interval to make a conclusion about your hypotheses."
   ]
  },
  {
   "cell_type": "markdown",
   "metadata": {},
   "source": [
    "since the null difference 0 is not between -0.346 and 0.0235. We successed reject the null hypotheses. And we say that we  have have sufficient evidence to suggest the alternative test( there are no population difference between nonmetropolitan and metropolitan counties that have a median education level of high school diploma)"
   ]
  },
  {
   "cell_type": "markdown",
   "metadata": {},
   "source": [
    "### 7.5 [1.5 pt] Calculate the p-value for this hypothesis test.\n"
   ]
  },
  {
   "cell_type": "code",
   "execution_count": 128,
   "metadata": {},
   "outputs": [
    {
     "data": {
      "text/plain": [
       "0.07487901089381244"
      ]
     },
     "execution_count": 128,
     "metadata": {},
     "output_type": "execute_result"
    }
   ],
   "source": [
    "ts_7 = p_e7 / std_error7\n",
    "pvalue_7 = 2 * (1-norm.cdf(np.abs(ts_7)))\n",
    "pvalue_7"
   ]
  },
  {
   "cell_type": "markdown",
   "metadata": {},
   "source": [
    "### 7.6 [0.5 pt] Use this p-value to make a conclusion about your hypotheses, using a significance level of $\\alpha=0.12$."
   ]
  },
  {
   "cell_type": "markdown",
   "metadata": {},
   "source": [
    "since the p-value = 0.075 > 𝛼=0.12\n",
    "so we successed to reject the null hypotheses. And we say that we have sufficient evidence to suggest the alternative test(there are no population difference between nonmetropolitan and metropolitan counties that have a median education level of high school diploma)"
   ]
  },
  {
   "cell_type": "code",
   "execution_count": null,
   "metadata": {},
   "outputs": [],
   "source": []
  }
 ],
 "metadata": {
  "kernelspec": {
   "display_name": "Python 3",
   "language": "python",
   "name": "python3"
  },
  "language_info": {
   "codemirror_mode": {
    "name": "ipython",
    "version": 3
   },
   "file_extension": ".py",
   "mimetype": "text/x-python",
   "name": "python",
   "nbconvert_exporter": "python",
   "pygments_lexer": "ipython3",
   "version": "3.7.4"
  }
 },
 "nbformat": 4,
 "nbformat_minor": 2
}
